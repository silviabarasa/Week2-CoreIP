{
  "nbformat": 4,
  "nbformat_minor": 0,
  "metadata": {
    "colab": {
      "name": "Silvia-Barasa-Week2-Core.ipynb",
      "provenance": [],
      "collapsed_sections": [],
      "authorship_tag": "ABX9TyNMmQjjz5sqCZ81Zz4gfqLF",
      "include_colab_link": true
    },
    "kernelspec": {
      "name": "python3",
      "display_name": "Python 3"
    },
    "language_info": {
      "name": "python"
    },
    "accelerator": "GPU"
  },
  "cells": [
    {
      "cell_type": "markdown",
      "metadata": {
        "id": "view-in-github",
        "colab_type": "text"
      },
      "source": [
        "<a href=\"https://colab.research.google.com/github/silviabarasa/Week2-CoreIP/blob/main/Silvia_Barasa_Week2_Core.ipynb\" target=\"_parent\"><img src=\"https://colab.research.google.com/assets/colab-badge.svg\" alt=\"Open In Colab\"/></a>"
      ]
    },
    {
      "cell_type": "markdown",
      "metadata": {
        "id": "CduFH_FDqM8i"
      },
      "source": [
        "#Exploratory Data Analysis"
      ]
    },
    {
      "cell_type": "markdown",
      "metadata": {
        "id": "e_RMDXvHsvcM"
      },
      "source": [
        "# 1. Defining the Question"
      ]
    },
    {
      "cell_type": "markdown",
      "metadata": {
        "id": "oy9zuZQ2tOYX"
      },
      "source": [
        "###a) Specifying the Data Analytic question\n",
        "Financial Inclusion: Identify how we can predict which individuals are most likely to have or use a bank account across Kenya, Rwanda, Tanzania, and Uganda."
      ]
    },
    {
      "cell_type": "markdown",
      "metadata": {
        "id": "99__QBIhuziU"
      },
      "source": [
        "### b) Defining the Metric for Success"
      ]
    },
    {
      "cell_type": "markdown",
      "metadata": {
        "id": "moKfg6zv3Tc9"
      },
      "source": [
        "> Identifying which individuals are more likely to have or use the bank\n",
        "-  their age groups\n",
        "- their gender\n",
        "- type of locality\n",
        "- number of households \n",
        "- how many people in the specific countries use a bank account"
      ]
    },
    {
      "cell_type": "markdown",
      "metadata": {
        "id": "3EKfPHSAx_sG"
      },
      "source": [
        "### c) Understanding the context"
      ]
    },
    {
      "cell_type": "markdown",
      "metadata": {
        "id": "GMfW1r5h3x-G"
      },
      "source": [
        "> to solve the challenge of financial inclusion, in several regions across east Africa, i have been assigned to figure out how we can predict which individuals are most likely to have or use a bank account. Your solution will help provide an indication of the state of financial inclusion in Kenya, Rwanda, Tanzania, and Uganda, while providing insights into some of the key demographic factors that might drive individuals’ financial outcomes."
      ]
    },
    {
      "cell_type": "markdown",
      "metadata": {
        "id": "_9rB5M_10gcw"
      },
      "source": [
        "### d) Recording the Experimental Design\n",
        "- reading in the datasets\n",
        "- checking the data for duplicates and missinng data\n",
        "- dropping of duplicates and removal filling in of missing data values with zero\n",
        "- Finding and dealing with outliers, anomalies, and missing data within the dataset.\n",
        "- Performing of univariate, bivariate and multivariate analysis recording of observations.\n",
        "- Implementing the solution by performing the respective analysis i.e. factor analysis, principal component analysis, and discriminant analysis.\n",
        "- Challenge your solution by providing insights on how you can make improvements."
      ]
    },
    {
      "cell_type": "markdown",
      "metadata": {
        "id": "llwG4utr4IEX"
      },
      "source": [
        "###e) Data relevance"
      ]
    },
    {
      "cell_type": "markdown",
      "metadata": {
        "id": "5rfh3n2Z4TKF"
      },
      "source": [
        "#2. Reading the data"
      ]
    },
    {
      "cell_type": "code",
      "metadata": {
        "id": "_rkKPldb4Wjd"
      },
      "source": [
        "#Importing the required libraries\n",
        "import pandas as pd\n",
        "import numpy as np\n",
        "import seaborn as sns\n",
        "import matplotlib\n",
        "from matplotlib import pyplot as plt\n",
        "%matplotlib inline"
      ],
      "execution_count": 16,
      "outputs": []
    },
    {
      "cell_type": "code",
      "metadata": {
        "colab": {
          "base_uri": "https://localhost:8080/",
          "height": 377
        },
        "id": "nnUMKBpy4sE2",
        "outputId": "71bc1d2a-b74f-4059-fdbb-a750dbe58013"
      },
      "source": [
        "# Loading the Data from the source i.e. csv\n",
        "df = pd.read_csv('/content/Financial Dataset - 1.csv')\n",
        "df.head()"
      ],
      "execution_count": 17,
      "outputs": [
        {
          "output_type": "execute_result",
          "data": {
            "text/html": [
              "<div>\n",
              "<style scoped>\n",
              "    .dataframe tbody tr th:only-of-type {\n",
              "        vertical-align: middle;\n",
              "    }\n",
              "\n",
              "    .dataframe tbody tr th {\n",
              "        vertical-align: top;\n",
              "    }\n",
              "\n",
              "    .dataframe thead th {\n",
              "        text-align: right;\n",
              "    }\n",
              "</style>\n",
              "<table border=\"1\" class=\"dataframe\">\n",
              "  <thead>\n",
              "    <tr style=\"text-align: right;\">\n",
              "      <th></th>\n",
              "      <th>country</th>\n",
              "      <th>year</th>\n",
              "      <th>uniqueid</th>\n",
              "      <th>Has a Bank account</th>\n",
              "      <th>Type of Location</th>\n",
              "      <th>Cell Phone Access</th>\n",
              "      <th>household_size</th>\n",
              "      <th>Respondent Age</th>\n",
              "      <th>gender_of_respondent</th>\n",
              "      <th>The relathip with head</th>\n",
              "      <th>marital_status</th>\n",
              "      <th>Level of Educuation</th>\n",
              "      <th>Type of Job</th>\n",
              "    </tr>\n",
              "  </thead>\n",
              "  <tbody>\n",
              "    <tr>\n",
              "      <th>0</th>\n",
              "      <td>Kenya</td>\n",
              "      <td>2018</td>\n",
              "      <td>uniqueid_1</td>\n",
              "      <td>Yes</td>\n",
              "      <td>Rural</td>\n",
              "      <td>Yes</td>\n",
              "      <td>3.0</td>\n",
              "      <td>24.0</td>\n",
              "      <td>Female</td>\n",
              "      <td>Spouse</td>\n",
              "      <td>Married/Living together</td>\n",
              "      <td>Secondary education</td>\n",
              "      <td>Self employed</td>\n",
              "    </tr>\n",
              "    <tr>\n",
              "      <th>1</th>\n",
              "      <td>Kenya</td>\n",
              "      <td>2018</td>\n",
              "      <td>uniqueid_2</td>\n",
              "      <td>No</td>\n",
              "      <td>Rural</td>\n",
              "      <td>No</td>\n",
              "      <td>5.0</td>\n",
              "      <td>70.0</td>\n",
              "      <td>Female</td>\n",
              "      <td>Head of Household</td>\n",
              "      <td>Widowed</td>\n",
              "      <td>No formal education</td>\n",
              "      <td>Government Dependent</td>\n",
              "    </tr>\n",
              "    <tr>\n",
              "      <th>2</th>\n",
              "      <td>Kenya</td>\n",
              "      <td>2018</td>\n",
              "      <td>uniqueid_3</td>\n",
              "      <td>Yes</td>\n",
              "      <td>Urban</td>\n",
              "      <td>Yes</td>\n",
              "      <td>5.0</td>\n",
              "      <td>26.0</td>\n",
              "      <td>Male</td>\n",
              "      <td>Other relative</td>\n",
              "      <td>Single/Never Married</td>\n",
              "      <td>Vocational/Specialised training</td>\n",
              "      <td>Self employed</td>\n",
              "    </tr>\n",
              "    <tr>\n",
              "      <th>3</th>\n",
              "      <td>Kenya</td>\n",
              "      <td>2018</td>\n",
              "      <td>uniqueid_4</td>\n",
              "      <td>No</td>\n",
              "      <td>Rural</td>\n",
              "      <td>Yes</td>\n",
              "      <td>5.0</td>\n",
              "      <td>34.0</td>\n",
              "      <td>Female</td>\n",
              "      <td>Head of Household</td>\n",
              "      <td>Married/Living together</td>\n",
              "      <td>Primary education</td>\n",
              "      <td>Formally employed Private</td>\n",
              "    </tr>\n",
              "    <tr>\n",
              "      <th>4</th>\n",
              "      <td>Kenya</td>\n",
              "      <td>2018</td>\n",
              "      <td>uniqueid_5</td>\n",
              "      <td>No</td>\n",
              "      <td>Urban</td>\n",
              "      <td>No</td>\n",
              "      <td>8.0</td>\n",
              "      <td>26.0</td>\n",
              "      <td>Male</td>\n",
              "      <td>Child</td>\n",
              "      <td>Single/Never Married</td>\n",
              "      <td>Primary education</td>\n",
              "      <td>Informally employed</td>\n",
              "    </tr>\n",
              "  </tbody>\n",
              "</table>\n",
              "</div>"
            ],
            "text/plain": [
              "  country  year  ...              Level of Educuation                Type of Job\n",
              "0   Kenya  2018  ...              Secondary education              Self employed\n",
              "1   Kenya  2018  ...              No formal education       Government Dependent\n",
              "2   Kenya  2018  ...  Vocational/Specialised training              Self employed\n",
              "3   Kenya  2018  ...                Primary education  Formally employed Private\n",
              "4   Kenya  2018  ...                Primary education        Informally employed\n",
              "\n",
              "[5 rows x 13 columns]"
            ]
          },
          "metadata": {
            "tags": []
          },
          "execution_count": 17
        }
      ]
    },
    {
      "cell_type": "markdown",
      "metadata": {
        "id": "scyjtw3x6Fno"
      },
      "source": [
        "#3. Checking the Data"
      ]
    },
    {
      "cell_type": "code",
      "metadata": {
        "colab": {
          "base_uri": "https://localhost:8080/"
        },
        "id": "lMP6cim45JfV",
        "outputId": "4fadf7fa-001e-4f58-b266-00618d358a5e"
      },
      "source": [
        "# Determining the no. of records in our dataset\n",
        "df.shape"
      ],
      "execution_count": 18,
      "outputs": [
        {
          "output_type": "execute_result",
          "data": {
            "text/plain": [
              "(23524, 13)"
            ]
          },
          "metadata": {
            "tags": []
          },
          "execution_count": 18
        }
      ]
    },
    {
      "cell_type": "code",
      "metadata": {
        "colab": {
          "base_uri": "https://localhost:8080/",
          "height": 377
        },
        "id": "Q3w6iMnr6X2k",
        "outputId": "435a3c2c-9658-47f4-adc9-8b533bafb76c"
      },
      "source": [
        "# Previewing the top of our dataset\n",
        "df.head()"
      ],
      "execution_count": 19,
      "outputs": [
        {
          "output_type": "execute_result",
          "data": {
            "text/html": [
              "<div>\n",
              "<style scoped>\n",
              "    .dataframe tbody tr th:only-of-type {\n",
              "        vertical-align: middle;\n",
              "    }\n",
              "\n",
              "    .dataframe tbody tr th {\n",
              "        vertical-align: top;\n",
              "    }\n",
              "\n",
              "    .dataframe thead th {\n",
              "        text-align: right;\n",
              "    }\n",
              "</style>\n",
              "<table border=\"1\" class=\"dataframe\">\n",
              "  <thead>\n",
              "    <tr style=\"text-align: right;\">\n",
              "      <th></th>\n",
              "      <th>country</th>\n",
              "      <th>year</th>\n",
              "      <th>uniqueid</th>\n",
              "      <th>Has a Bank account</th>\n",
              "      <th>Type of Location</th>\n",
              "      <th>Cell Phone Access</th>\n",
              "      <th>household_size</th>\n",
              "      <th>Respondent Age</th>\n",
              "      <th>gender_of_respondent</th>\n",
              "      <th>The relathip with head</th>\n",
              "      <th>marital_status</th>\n",
              "      <th>Level of Educuation</th>\n",
              "      <th>Type of Job</th>\n",
              "    </tr>\n",
              "  </thead>\n",
              "  <tbody>\n",
              "    <tr>\n",
              "      <th>0</th>\n",
              "      <td>Kenya</td>\n",
              "      <td>2018</td>\n",
              "      <td>uniqueid_1</td>\n",
              "      <td>Yes</td>\n",
              "      <td>Rural</td>\n",
              "      <td>Yes</td>\n",
              "      <td>3.0</td>\n",
              "      <td>24.0</td>\n",
              "      <td>Female</td>\n",
              "      <td>Spouse</td>\n",
              "      <td>Married/Living together</td>\n",
              "      <td>Secondary education</td>\n",
              "      <td>Self employed</td>\n",
              "    </tr>\n",
              "    <tr>\n",
              "      <th>1</th>\n",
              "      <td>Kenya</td>\n",
              "      <td>2018</td>\n",
              "      <td>uniqueid_2</td>\n",
              "      <td>No</td>\n",
              "      <td>Rural</td>\n",
              "      <td>No</td>\n",
              "      <td>5.0</td>\n",
              "      <td>70.0</td>\n",
              "      <td>Female</td>\n",
              "      <td>Head of Household</td>\n",
              "      <td>Widowed</td>\n",
              "      <td>No formal education</td>\n",
              "      <td>Government Dependent</td>\n",
              "    </tr>\n",
              "    <tr>\n",
              "      <th>2</th>\n",
              "      <td>Kenya</td>\n",
              "      <td>2018</td>\n",
              "      <td>uniqueid_3</td>\n",
              "      <td>Yes</td>\n",
              "      <td>Urban</td>\n",
              "      <td>Yes</td>\n",
              "      <td>5.0</td>\n",
              "      <td>26.0</td>\n",
              "      <td>Male</td>\n",
              "      <td>Other relative</td>\n",
              "      <td>Single/Never Married</td>\n",
              "      <td>Vocational/Specialised training</td>\n",
              "      <td>Self employed</td>\n",
              "    </tr>\n",
              "    <tr>\n",
              "      <th>3</th>\n",
              "      <td>Kenya</td>\n",
              "      <td>2018</td>\n",
              "      <td>uniqueid_4</td>\n",
              "      <td>No</td>\n",
              "      <td>Rural</td>\n",
              "      <td>Yes</td>\n",
              "      <td>5.0</td>\n",
              "      <td>34.0</td>\n",
              "      <td>Female</td>\n",
              "      <td>Head of Household</td>\n",
              "      <td>Married/Living together</td>\n",
              "      <td>Primary education</td>\n",
              "      <td>Formally employed Private</td>\n",
              "    </tr>\n",
              "    <tr>\n",
              "      <th>4</th>\n",
              "      <td>Kenya</td>\n",
              "      <td>2018</td>\n",
              "      <td>uniqueid_5</td>\n",
              "      <td>No</td>\n",
              "      <td>Urban</td>\n",
              "      <td>No</td>\n",
              "      <td>8.0</td>\n",
              "      <td>26.0</td>\n",
              "      <td>Male</td>\n",
              "      <td>Child</td>\n",
              "      <td>Single/Never Married</td>\n",
              "      <td>Primary education</td>\n",
              "      <td>Informally employed</td>\n",
              "    </tr>\n",
              "  </tbody>\n",
              "</table>\n",
              "</div>"
            ],
            "text/plain": [
              "  country  year  ...              Level of Educuation                Type of Job\n",
              "0   Kenya  2018  ...              Secondary education              Self employed\n",
              "1   Kenya  2018  ...              No formal education       Government Dependent\n",
              "2   Kenya  2018  ...  Vocational/Specialised training              Self employed\n",
              "3   Kenya  2018  ...                Primary education  Formally employed Private\n",
              "4   Kenya  2018  ...                Primary education        Informally employed\n",
              "\n",
              "[5 rows x 13 columns]"
            ]
          },
          "metadata": {
            "tags": []
          },
          "execution_count": 19
        }
      ]
    },
    {
      "cell_type": "code",
      "metadata": {
        "colab": {
          "base_uri": "https://localhost:8080/",
          "height": 340
        },
        "id": "BEsADKVx6bha",
        "outputId": "a5de9438-ae14-4486-d4bd-1ea5dc5e6d5d"
      },
      "source": [
        "# Previewing the bottom of our dataset \n",
        "df.tail()"
      ],
      "execution_count": 20,
      "outputs": [
        {
          "output_type": "execute_result",
          "data": {
            "text/html": [
              "<div>\n",
              "<style scoped>\n",
              "    .dataframe tbody tr th:only-of-type {\n",
              "        vertical-align: middle;\n",
              "    }\n",
              "\n",
              "    .dataframe tbody tr th {\n",
              "        vertical-align: top;\n",
              "    }\n",
              "\n",
              "    .dataframe thead th {\n",
              "        text-align: right;\n",
              "    }\n",
              "</style>\n",
              "<table border=\"1\" class=\"dataframe\">\n",
              "  <thead>\n",
              "    <tr style=\"text-align: right;\">\n",
              "      <th></th>\n",
              "      <th>country</th>\n",
              "      <th>year</th>\n",
              "      <th>uniqueid</th>\n",
              "      <th>Has a Bank account</th>\n",
              "      <th>Type of Location</th>\n",
              "      <th>Cell Phone Access</th>\n",
              "      <th>household_size</th>\n",
              "      <th>Respondent Age</th>\n",
              "      <th>gender_of_respondent</th>\n",
              "      <th>The relathip with head</th>\n",
              "      <th>marital_status</th>\n",
              "      <th>Level of Educuation</th>\n",
              "      <th>Type of Job</th>\n",
              "    </tr>\n",
              "  </thead>\n",
              "  <tbody>\n",
              "    <tr>\n",
              "      <th>23519</th>\n",
              "      <td>Uganda</td>\n",
              "      <td>2018</td>\n",
              "      <td>uniqueid_2113</td>\n",
              "      <td>No</td>\n",
              "      <td>Rural</td>\n",
              "      <td>Yes</td>\n",
              "      <td>4.0</td>\n",
              "      <td>48.0</td>\n",
              "      <td>Female</td>\n",
              "      <td>Head of Household</td>\n",
              "      <td>Divorced/Seperated</td>\n",
              "      <td>No formal education</td>\n",
              "      <td>Other Income</td>\n",
              "    </tr>\n",
              "    <tr>\n",
              "      <th>23520</th>\n",
              "      <td>Uganda</td>\n",
              "      <td>2018</td>\n",
              "      <td>uniqueid_2114</td>\n",
              "      <td>No</td>\n",
              "      <td>Rural</td>\n",
              "      <td>Yes</td>\n",
              "      <td>2.0</td>\n",
              "      <td>27.0</td>\n",
              "      <td>Female</td>\n",
              "      <td>Head of Household</td>\n",
              "      <td>Single/Never Married</td>\n",
              "      <td>Secondary education</td>\n",
              "      <td>Other Income</td>\n",
              "    </tr>\n",
              "    <tr>\n",
              "      <th>23521</th>\n",
              "      <td>Uganda</td>\n",
              "      <td>2018</td>\n",
              "      <td>uniqueid_2115</td>\n",
              "      <td>No</td>\n",
              "      <td>Rural</td>\n",
              "      <td>Yes</td>\n",
              "      <td>5.0</td>\n",
              "      <td>27.0</td>\n",
              "      <td>Female</td>\n",
              "      <td>Parent</td>\n",
              "      <td>Widowed</td>\n",
              "      <td>Primary education</td>\n",
              "      <td>Other Income</td>\n",
              "    </tr>\n",
              "    <tr>\n",
              "      <th>23522</th>\n",
              "      <td>Uganda</td>\n",
              "      <td>2018</td>\n",
              "      <td>uniqueid_2116</td>\n",
              "      <td>No</td>\n",
              "      <td>Urban</td>\n",
              "      <td>Yes</td>\n",
              "      <td>7.0</td>\n",
              "      <td>30.0</td>\n",
              "      <td>Female</td>\n",
              "      <td>Parent</td>\n",
              "      <td>Divorced/Seperated</td>\n",
              "      <td>Secondary education</td>\n",
              "      <td>Self employed</td>\n",
              "    </tr>\n",
              "    <tr>\n",
              "      <th>23523</th>\n",
              "      <td>Uganda</td>\n",
              "      <td>2018</td>\n",
              "      <td>uniqueid_2117</td>\n",
              "      <td>No</td>\n",
              "      <td>Rural</td>\n",
              "      <td>Yes</td>\n",
              "      <td>10.0</td>\n",
              "      <td>20.0</td>\n",
              "      <td>Male</td>\n",
              "      <td>Child</td>\n",
              "      <td>Single/Never Married</td>\n",
              "      <td>Secondary education</td>\n",
              "      <td>No Income</td>\n",
              "    </tr>\n",
              "  </tbody>\n",
              "</table>\n",
              "</div>"
            ],
            "text/plain": [
              "      country  year  ...  Level of Educuation    Type of Job\n",
              "23519  Uganda  2018  ...  No formal education   Other Income\n",
              "23520  Uganda  2018  ...  Secondary education   Other Income\n",
              "23521  Uganda  2018  ...    Primary education   Other Income\n",
              "23522  Uganda  2018  ...  Secondary education  Self employed\n",
              "23523  Uganda  2018  ...  Secondary education      No Income\n",
              "\n",
              "[5 rows x 13 columns]"
            ]
          },
          "metadata": {
            "tags": []
          },
          "execution_count": 20
        }
      ]
    },
    {
      "cell_type": "code",
      "metadata": {
        "colab": {
          "base_uri": "https://localhost:8080/"
        },
        "id": "R1n19IF76pYO",
        "outputId": "a705590a-5ba4-48e7-d030-cdf6ac176f82"
      },
      "source": [
        "# Checking whether each column has an appropriate datatype\n",
        "df.info()"
      ],
      "execution_count": 21,
      "outputs": [
        {
          "output_type": "stream",
          "text": [
            "<class 'pandas.core.frame.DataFrame'>\n",
            "RangeIndex: 23524 entries, 0 to 23523\n",
            "Data columns (total 13 columns):\n",
            " #   Column                  Non-Null Count  Dtype  \n",
            "---  ------                  --------------  -----  \n",
            " 0   country                 23510 non-null  object \n",
            " 1   year                    23524 non-null  int64  \n",
            " 2   uniqueid                23524 non-null  object \n",
            " 3   Has a Bank account      23488 non-null  object \n",
            " 4   Type of Location        23509 non-null  object \n",
            " 5   Cell Phone Access       23513 non-null  object \n",
            " 6   household_size          23496 non-null  float64\n",
            " 7   Respondent Age          23490 non-null  float64\n",
            " 8   gender_of_respondent    23490 non-null  object \n",
            " 9   The relathip with head  23520 non-null  object \n",
            " 10  marital_status          23492 non-null  object \n",
            " 11  Level of Educuation     23495 non-null  object \n",
            " 12  Type of Job             23494 non-null  object \n",
            "dtypes: float64(2), int64(1), object(10)\n",
            "memory usage: 2.3+ MB\n"
          ],
          "name": "stdout"
        }
      ]
    },
    {
      "cell_type": "markdown",
      "metadata": {
        "id": "jqPLH6ak64FS"
      },
      "source": [
        "#4. External Data Source Validation"
      ]
    },
    {
      "cell_type": "markdown",
      "metadata": {
        "id": "BLL1TT9O7ij3"
      },
      "source": [
        "> Making sure your data matches something outside of the dataset is very important. It allows you to ensure that the measurements are roughly in line with what they should be and it serves as a check on what other things might be wrong in your dataset. External validation can often be as simple as checking your data against a single number, as we will do here.\n",
        "> An example would be suppose that you're working with a dataset on the surveys ranging from 2016 to 2018 of countries. Validating such information with an external reliable resource such as  Finscope surveys in 2016,2017,2018, would be important step to providing credibility to your dataset. Have a look at the following links for an example: \n",
        "- [Link](https://fsduganda.or.ug/wp-content/uploads/2018/10/FinScope-Uganda-Survey-Report-2018.pdf).\n",
        "- [link](http://www.fsdt.or.tz/wp-content/uploads/2017/09/Finscope.pdf)"
      ]
    },
    {
      "cell_type": "markdown",
      "metadata": {
        "id": "xoYY0JzB-mJH"
      },
      "source": [
        "#5. Tidying the Dataset"
      ]
    },
    {
      "cell_type": "code",
      "metadata": {
        "colab": {
          "base_uri": "https://localhost:8080/",
          "height": 582
        },
        "id": "KVFEwZmF6wtN",
        "outputId": "53e49e8f-e201-45a4-af16-76f412c99412"
      },
      "source": [
        "# Checking for Outliers\n",
        "fig, (ax1, ax2) = plt.subplots(1,2, figsize=(10, 7))\n",
        "fig.suptitle('Boxplots')\n",
        "sns.boxplot(df['household_size'], ax=ax1)\n",
        "sns.boxplot(df['Respondent Age'], ax=ax2)\n",
        "plt.show()\n",
        "\n"
      ],
      "execution_count": 22,
      "outputs": [
        {
          "output_type": "stream",
          "text": [
            "/usr/local/lib/python3.7/dist-packages/seaborn/_decorators.py:43: FutureWarning: Pass the following variable as a keyword arg: x. From version 0.12, the only valid positional argument will be `data`, and passing other arguments without an explicit keyword will result in an error or misinterpretation.\n",
            "  FutureWarning\n",
            "/usr/local/lib/python3.7/dist-packages/seaborn/_decorators.py:43: FutureWarning: Pass the following variable as a keyword arg: x. From version 0.12, the only valid positional argument will be `data`, and passing other arguments without an explicit keyword will result in an error or misinterpretation.\n",
            "  FutureWarning\n"
          ],
          "name": "stderr"
        },
        {
          "output_type": "display_data",
          "data": {
            "image/png": "[encoded data removed]",
            "text/plain": [
              "<Figure size 720x504 with 2 Axes>"
            ]
          },
          "metadata": {
            "tags": [],
            "needs_background": "light"
          }
        }
      ]
    },
    {
      "cell_type": "code",
      "metadata": {
        "colab": {
          "base_uri": "https://localhost:8080/"
        },
        "id": "7V9j9aVxAK3G",
        "outputId": "17a2ce30-e15d-4b9c-82e8-9c2ee82076e6"
      },
      "source": [
        "# Checking for Anomalies\n",
        "#\n",
        "q1_1 = df['household_size'].quantile(.25)\n",
        "q3_1 = df['household_size'].quantile(.75)\n",
        "\n",
        "iqr_1 = q3_1 - q1_1\n",
        "\n",
        "\n",
        "q1_2 = df['Respondent Age'].quantile(.25)\n",
        "q3_2 = df['Respondent Age'].quantile(.75)\n",
        "iqr_2 = q3_2 - q1_1\n",
        "# Or\n",
        "\n",
        "q1_3, q3_3 = np.percentile(df['household_size'], [25, 75]) \n",
        "\n",
        "iqr = q3_3 - q1_3\n",
        "\n",
        "l_bound = q1_1 - (1.5*iqr)\n",
        "u_bound = q3_3 + (1.5 * iqr)\n",
        "\n",
        "q1_3, q3_3 = np.percentile(df['Respondent Age'], [25, 75]) \n",
        "\n",
        "iqr = q3_3 - q1_3\n",
        "\n",
        "l_bound = q1_1 - (1.5*iqr)\n",
        "u_bound = q3_3 + (1.5 * iqr)\n",
        "print(iqr_1, iqr)\n",
        "print(iqr_2, iqr)"
      ],
      "execution_count": 23,
      "outputs": [
        {
          "output_type": "stream",
          "text": [
            "3.0 nan\n",
            "47.0 nan\n"
          ],
          "name": "stdout"
        }
      ]
    },
    {
      "cell_type": "code",
      "metadata": {
        "colab": {
          "base_uri": "https://localhost:8080/"
        },
        "id": "fQjzXQrID4bR",
        "outputId": "fb58e59d-d4ba-40a3-a536-ba4978c01fbc"
      },
      "source": [
        "# Finding if there are any duplicates\n",
        "df.duplicated().sum()"
      ],
      "execution_count": 24,
      "outputs": [
        {
          "output_type": "execute_result",
          "data": {
            "text/plain": [
              "0"
            ]
          },
          "metadata": {
            "tags": []
          },
          "execution_count": 24
        }
      ]
    },
    {
      "cell_type": "code",
      "metadata": {
        "colab": {
          "base_uri": "https://localhost:8080/"
        },
        "id": "ZR-Gf7EQCe8R",
        "outputId": "1b4eab0c-8862-4993-bbce-382a29f92985"
      },
      "source": [
        "# Identifying the Missing Data\n",
        "# Checking how many missing values there are across each column\n",
        "df.isnull().sum()"
      ],
      "execution_count": 25,
      "outputs": [
        {
          "output_type": "execute_result",
          "data": {
            "text/plain": [
              "country                   14\n",
              "year                       0\n",
              "uniqueid                   0\n",
              "Has a Bank account        36\n",
              "Type of Location          15\n",
              "Cell Phone Access         11\n",
              "household_size            28\n",
              "Respondent Age            34\n",
              "gender_of_respondent      34\n",
              "The relathip with head     4\n",
              "marital_status            32\n",
              "Level of Educuation       29\n",
              "Type of Job               30\n",
              "dtype: int64"
            ]
          },
          "metadata": {
            "tags": []
          },
          "execution_count": 25
        }
      ]
    },
    {
      "cell_type": "code",
      "metadata": {
        "id": "l6hMgSFhEGpX"
      },
      "source": [
        "# Dealing with the Missing Data\n",
        "#\n",
        "df.dropna(inplace=True)"
      ],
      "execution_count": 26,
      "outputs": []
    },
    {
      "cell_type": "code",
      "metadata": {
        "colab": {
          "base_uri": "https://localhost:8080/"
        },
        "id": "3HO-ofK4Hrts",
        "outputId": "6f9f212f-7451-488e-c8b5-6314cf9cfdee"
      },
      "source": [
        "#checking if null values were dropped\n",
        "df.isnull().sum()"
      ],
      "execution_count": 27,
      "outputs": [
        {
          "output_type": "execute_result",
          "data": {
            "text/plain": [
              "country                   0\n",
              "year                      0\n",
              "uniqueid                  0\n",
              "Has a Bank account        0\n",
              "Type of Location          0\n",
              "Cell Phone Access         0\n",
              "household_size            0\n",
              "Respondent Age            0\n",
              "gender_of_respondent      0\n",
              "The relathip with head    0\n",
              "marital_status            0\n",
              "Level of Educuation       0\n",
              "Type of Job               0\n",
              "dtype: int64"
            ]
          },
          "metadata": {
            "tags": []
          },
          "execution_count": 27
        }
      ]
    },
    {
      "cell_type": "code",
      "metadata": {
        "id": "PTIXpV_LcCZS"
      },
      "source": [
        "#dropping years greater than 2018\n",
        "df.drop(df[df.year > 2018].index,inplace=True)"
      ],
      "execution_count": 28,
      "outputs": []
    },
    {
      "cell_type": "code",
      "metadata": {
        "id": "2s7-7qRkIF9I"
      },
      "source": [
        "# drop columns\n",
        "to_drop = ['uniqueid','The relathip with head', 'year']\n",
        "df.drop(to_drop, axis=1, inplace=True)"
      ],
      "execution_count": 29,
      "outputs": []
    },
    {
      "cell_type": "code",
      "metadata": {
        "id": "iCJCHg1AKopL"
      },
      "source": [
        "#Renaming the level of education column\n",
        "df.rename(columns={'Level of Educuation':'Education'},inplace=True)"
      ],
      "execution_count": 30,
      "outputs": []
    },
    {
      "cell_type": "code",
      "metadata": {
        "colab": {
          "base_uri": "https://localhost:8080/",
          "height": 326
        },
        "id": "aByOM84VE7-y",
        "outputId": "c17dff9f-ea96-44df-bc55-98877270356a"
      },
      "source": [
        "#changing column names to lower case and placing underscore to make the column names be more presentable\n",
        "df.columns = df.columns.str.strip().str.lower().str.replace(' ', '_').str.replace('(', '').str.replace(')', '')\n",
        "df.head()"
      ],
      "execution_count": 31,
      "outputs": [
        {
          "output_type": "execute_result",
          "data": {
            "text/html": [
              "<div>\n",
              "<style scoped>\n",
              "    .dataframe tbody tr th:only-of-type {\n",
              "        vertical-align: middle;\n",
              "    }\n",
              "\n",
              "    .dataframe tbody tr th {\n",
              "        vertical-align: top;\n",
              "    }\n",
              "\n",
              "    .dataframe thead th {\n",
              "        text-align: right;\n",
              "    }\n",
              "</style>\n",
              "<table border=\"1\" class=\"dataframe\">\n",
              "  <thead>\n",
              "    <tr style=\"text-align: right;\">\n",
              "      <th></th>\n",
              "      <th>country</th>\n",
              "      <th>has_a_bank_account</th>\n",
              "      <th>type_of_location</th>\n",
              "      <th>cell_phone_access</th>\n",
              "      <th>household_size</th>\n",
              "      <th>respondent_age</th>\n",
              "      <th>gender_of_respondent</th>\n",
              "      <th>marital_status</th>\n",
              "      <th>education</th>\n",
              "      <th>type_of_job</th>\n",
              "    </tr>\n",
              "  </thead>\n",
              "  <tbody>\n",
              "    <tr>\n",
              "      <th>0</th>\n",
              "      <td>Kenya</td>\n",
              "      <td>Yes</td>\n",
              "      <td>Rural</td>\n",
              "      <td>Yes</td>\n",
              "      <td>3.0</td>\n",
              "      <td>24.0</td>\n",
              "      <td>Female</td>\n",
              "      <td>Married/Living together</td>\n",
              "      <td>Secondary education</td>\n",
              "      <td>Self employed</td>\n",
              "    </tr>\n",
              "    <tr>\n",
              "      <th>1</th>\n",
              "      <td>Kenya</td>\n",
              "      <td>No</td>\n",
              "      <td>Rural</td>\n",
              "      <td>No</td>\n",
              "      <td>5.0</td>\n",
              "      <td>70.0</td>\n",
              "      <td>Female</td>\n",
              "      <td>Widowed</td>\n",
              "      <td>No formal education</td>\n",
              "      <td>Government Dependent</td>\n",
              "    </tr>\n",
              "    <tr>\n",
              "      <th>2</th>\n",
              "      <td>Kenya</td>\n",
              "      <td>Yes</td>\n",
              "      <td>Urban</td>\n",
              "      <td>Yes</td>\n",
              "      <td>5.0</td>\n",
              "      <td>26.0</td>\n",
              "      <td>Male</td>\n",
              "      <td>Single/Never Married</td>\n",
              "      <td>Vocational/Specialised training</td>\n",
              "      <td>Self employed</td>\n",
              "    </tr>\n",
              "    <tr>\n",
              "      <th>3</th>\n",
              "      <td>Kenya</td>\n",
              "      <td>No</td>\n",
              "      <td>Rural</td>\n",
              "      <td>Yes</td>\n",
              "      <td>5.0</td>\n",
              "      <td>34.0</td>\n",
              "      <td>Female</td>\n",
              "      <td>Married/Living together</td>\n",
              "      <td>Primary education</td>\n",
              "      <td>Formally employed Private</td>\n",
              "    </tr>\n",
              "    <tr>\n",
              "      <th>4</th>\n",
              "      <td>Kenya</td>\n",
              "      <td>No</td>\n",
              "      <td>Urban</td>\n",
              "      <td>No</td>\n",
              "      <td>8.0</td>\n",
              "      <td>26.0</td>\n",
              "      <td>Male</td>\n",
              "      <td>Single/Never Married</td>\n",
              "      <td>Primary education</td>\n",
              "      <td>Informally employed</td>\n",
              "    </tr>\n",
              "  </tbody>\n",
              "</table>\n",
              "</div>"
            ],
            "text/plain": [
              "  country  ...                type_of_job\n",
              "0   Kenya  ...              Self employed\n",
              "1   Kenya  ...       Government Dependent\n",
              "2   Kenya  ...              Self employed\n",
              "3   Kenya  ...  Formally employed Private\n",
              "4   Kenya  ...        Informally employed\n",
              "\n",
              "[5 rows x 10 columns]"
            ]
          },
          "metadata": {
            "tags": []
          },
          "execution_count": 31
        }
      ]
    },
    {
      "cell_type": "markdown",
      "metadata": {
        "id": "yvv6th0Vaj14"
      },
      "source": [
        "# 6. Exploratory Analysis"
      ]
    },
    {
      "cell_type": "markdown",
      "metadata": {
        "id": "qpi1iGHtcW1O"
      },
      "source": [
        "##6.1 Univariate Analysis"
      ]
    },
    {
      "cell_type": "markdown",
      "metadata": {
        "id": "AcAFfzE_03Yb"
      },
      "source": [
        "#### 6.1.1 Categorical variables"
      ]
    },
    {
      "cell_type": "markdown",
      "metadata": {
        "id": "zZ1UMMwUcJKj"
      },
      "source": [
        "***##Frequency tables***"
      ]
    },
    {
      "cell_type": "code",
      "metadata": {
        "colab": {
          "base_uri": "https://localhost:8080/"
        },
        "id": "VIHEIUz1a0kw",
        "outputId": "ad7fb2ab-bc97-42eb-9793-eaeb398a3dfb"
      },
      "source": [
        "#Frequency table of gender of respondent\n",
        "da = df.gender_of_respondent.value_counts()\n",
        "print(\"The frequency of gender of respondent is: \\n\", da)\n",
        "print('\\n')\n",
        "#frequency table of those with a bank account\n",
        "da1 = df.has_a_bank_account.value_counts()\n",
        "print(\"The frequency of has a bank account is: \\n\", da1)\n",
        "print('\\n')\n",
        "da2 = df.type_of_location.value_counts()\n",
        "print(\"The frequency of type of location is: \\n\", da2)\n",
        "print('\\n')\n",
        "da3 = df.country.value_counts()\n",
        "print(\"The frequency of country is: \\n\", da3)\n",
        "print('\\n')\n",
        "da4 = df.marital_status.value_counts()\n",
        "print(\"The frequency of the marital status is: \\n\", da4)\n",
        "print('\\n')\n",
        "da5 = df.education.value_counts()\n",
        "print(\"The frequency of education level is: \\n\", da5)\n",
        "print('\\n')"
      ],
      "execution_count": 32,
      "outputs": [
        {
          "output_type": "stream",
          "text": [
            "The frequency of gender of respondent is: \n",
            " Female    13766\n",
            "Male       9574\n",
            "Name: gender_of_respondent, dtype: int64\n",
            "\n",
            "\n",
            "The frequency of has a bank account is: \n",
            " No     20044\n",
            "Yes     3296\n",
            "Name: has_a_bank_account, dtype: int64\n",
            "\n",
            "\n",
            "The frequency of type of location is: \n",
            " Rural    14263\n",
            "Urban     9077\n",
            "Name: type_of_location, dtype: int64\n",
            "\n",
            "\n",
            "The frequency of country is: \n",
            " Rwanda      8683\n",
            "Tanzania    6500\n",
            "Kenya       6062\n",
            "Uganda      2095\n",
            "Name: country, dtype: int64\n",
            "\n",
            "\n",
            "The frequency of the marital status is: \n",
            " Married/Living together    10698\n",
            "Single/Never Married        7902\n",
            "Widowed                     2683\n",
            "Divorced/Seperated          2049\n",
            "Dont know                      8\n",
            "Name: marital_status, dtype: int64\n",
            "\n",
            "\n",
            "The frequency of education level is: \n",
            " Primary education                  12688\n",
            "No formal education                 4467\n",
            "Secondary education                 4206\n",
            "Tertiary education                  1143\n",
            "Vocational/Specialised training      801\n",
            "6                                     27\n",
            "Other/Dont know/RTA                    8\n",
            "Name: education, dtype: int64\n",
            "\n",
            "\n"
          ],
          "name": "stdout"
        }
      ]
    },
    {
      "cell_type": "markdown",
      "metadata": {
        "id": "-JkB7FELk4AS"
      },
      "source": [
        "***##Bar charts and histograms***"
      ]
    },
    {
      "cell_type": "code",
      "metadata": {
        "colab": {
          "base_uri": "https://localhost:8080/",
          "height": 359
        },
        "id": "sRiQ9K_Afh5a",
        "outputId": "88373779-a234-479f-f6b6-2a8e860c9c95"
      },
      "source": [
        "#Histogram of household size\n",
        "household = df['household_size']\n",
        "plt.figure(figsize=(9,5))\n",
        "plt.hist(household, bins=10, histtype='bar', rwidth=0.9, color='brown')\n",
        "plt.xlabel('size hoseholds', fontweight='bold', color='red', fontsize=15)\n",
        "plt.ylabel('number', fontweight='bold', color='red', fontsize=15)\n",
        "plt.title('Histogram of size vs No. of households', fontweight='bold', color='red', fontsize=18)\n",
        "plt.show()"
      ],
      "execution_count": 33,
      "outputs": [
        {
          "output_type": "display_data",
          "data": {
            "image/png": "[encoded data removed]",
            "text/plain": [
              "<Figure size 648x360 with 1 Axes>"
            ]
          },
          "metadata": {
            "tags": [],
            "needs_background": "light"
          }
        }
      ]
    },
    {
      "cell_type": "code",
      "metadata": {
        "colab": {
          "base_uri": "https://localhost:8080/",
          "height": 359
        },
        "id": "Rv-3DxM7m1dZ",
        "outputId": "37d18c9a-ca7b-465e-ff1f-623ecb6272c3"
      },
      "source": [
        "#Histogram of age of respondent\n",
        "household = df['respondent_age']\n",
        "plt.figure(figsize=(9,5))\n",
        "plt.hist(household, bins=10, histtype='bar', rwidth=0.9, color='green')\n",
        "plt.xlabel('age', fontweight='bold', color='green', fontsize=15)\n",
        "plt.ylabel('number of respondents', fontweight='bold', color='green', fontsize=15)\n",
        "plt.title('Histogram of the ages of respodent', fontweight='bold', color='green', fontsize=18, )\n",
        "plt.show()"
      ],
      "execution_count": 34,
      "outputs": [
        {
          "output_type": "display_data",
          "data": {
            "image/png": "[encoded data removed]",
            "text/plain": [
              "<Figure size 648x360 with 1 Axes>"
            ]
          },
          "metadata": {
            "tags": [],
            "needs_background": "light"
          }
        }
      ]
    },
    {
      "cell_type": "markdown",
      "metadata": {
        "id": "tug85ZPurJ3w"
      },
      "source": [
        "***##pie charts***"
      ]
    },
    {
      "cell_type": "code",
      "metadata": {
        "colab": {
          "base_uri": "https://localhost:8080/",
          "height": 323
        },
        "id": "9fXtzuSUpcfI",
        "outputId": "65a75900-e3e6-47d6-e64b-72c251d0728a"
      },
      "source": [
        "#pie chart for gender \n",
        "gender= df['gender_of_respondent'].value_counts().plot(kind='pie',colors=['indigo','green'])\n",
        "fig=plt.gcf()\n",
        "fig.set_size_inches(5,5)\n",
        "#plt.pie(gender,labels= gender,colors=colors,autopct = '%1.1f%%', shadow = True, startangle = 140)\n",
        "plt.axis('equal')\n",
        "plt.legend(loc='upper right')\n",
        "plt.title('Pie Chart of Gender population', fontweight='bold', fontsize=15, color='indigo')\n",
        "plt.show()"
      ],
      "execution_count": 35,
      "outputs": [
        {
          "output_type": "display_data",
          "data": {
            "image/png": "[encoded data removed]",
            "text/plain": [
              "<Figure size 360x360 with 1 Axes>"
            ]
          },
          "metadata": {
            "tags": []
          }
        }
      ]
    },
    {
      "cell_type": "code",
      "metadata": {
        "colab": {
          "base_uri": "https://localhost:8080/",
          "height": 266
        },
        "id": "V_RzbIC2uFq3",
        "outputId": "f8d29806-7346-4c71-98ab-86d0ea482cd1"
      },
      "source": [
        "#pie chart for people with a bank account \n",
        "gender= df['has_a_bank_account'].value_counts().plot(kind='pie',colors=['violet','blue'])\n",
        "#plt.pie(gender,labels= gender,colors=colors,autopct = '%1.1f%%', shadow = True, startangle = 140)\n",
        "plt.axis('equal')\n",
        "plt.legend(loc='upper right')\n",
        "plt.title('Pie Chart of people with a bank account', fontweight='bold', fontsize=15, color='blue')\n",
        "plt.show()"
      ],
      "execution_count": 36,
      "outputs": [
        {
          "output_type": "display_data",
          "data": {
            "image/png": "[encoded data removed]",
            "text/plain": [
              "<Figure size 432x288 with 1 Axes>"
            ]
          },
          "metadata": {
            "tags": []
          }
        }
      ]
    },
    {
      "cell_type": "code",
      "metadata": {
        "colab": {
          "base_uri": "https://localhost:8080/",
          "height": 266
        },
        "id": "SFq4DG5o1F4d",
        "outputId": "7b1a29ab-f825-4ad5-990c-49ec4c9f2f1b"
      },
      "source": [
        "#pie chart for marital status \n",
        "gender= df['marital_status'].value_counts().plot(kind='pie', startangle=360, autopct='%1.1f%%',colors=['violet','blue', 'yellow', 'brown', 'green'])\n",
        "#plt.pie(gender,labels= gender,colors=colors,autopct = '%1.1f%%', shadow = True, startangle = 140)\n",
        "plt.axis('equal')\n",
        "plt.legend(loc='upper left')\n",
        "plt.title('Pie Chart of marital status', fontweight='bold', fontsize=15, color='blue')\n",
        "plt.show()"
      ],
      "execution_count": 37,
      "outputs": [
        {
          "output_type": "display_data",
          "data": {
            "image/png": "[encoded data removed]",
            "text/plain": [
              "<Figure size 432x288 with 1 Axes>"
            ]
          },
          "metadata": {
            "tags": []
          }
        }
      ]
    },
    {
      "cell_type": "code",
      "metadata": {
        "colab": {
          "base_uri": "https://localhost:8080/",
          "height": 266
        },
        "id": "kjO7N0Y13LY-",
        "outputId": "62263257-4d22-4028-a7f4-0421692871d7"
      },
      "source": [
        "#pie chart for marital status \n",
        "gender= df['education'].value_counts().plot(kind='pie', startangle=90, autopct='%1.1f%%')\n",
        "#plt.pie(gender,labels= gender,colors=colors,autopct = '%1.1f%%', shadow = True, startangle = 140)\n",
        "plt.axis('equal')\n",
        "plt.legend(loc='upper left')\n",
        "plt.title('Pie Chart of education', fontweight='bold', fontsize=15, color='blue')\n",
        "plt.show()"
      ],
      "execution_count": 38,
      "outputs": [
        {
          "output_type": "display_data",
          "data": {
            "image/png": "[encoded data removed]",
            "text/plain": [
              "<Figure size 432x288 with 1 Axes>"
            ]
          },
          "metadata": {
            "tags": []
          }
        }
      ]
    },
    {
      "cell_type": "markdown",
      "metadata": {
        "id": "xiSbPuZB6Isp"
      },
      "source": [
        "#### 6.1.2 Numerical Variables"
      ]
    },
    {
      "cell_type": "markdown",
      "metadata": {
        "id": "b3Dkdqp36c34"
      },
      "source": [
        "***##Measures of central tendancy***"
      ]
    },
    {
      "cell_type": "code",
      "metadata": {
        "colab": {
          "base_uri": "https://localhost:8080/"
        },
        "id": "WU0P4a0M6cWY",
        "outputId": "ae334c45-c383-4689-864f-61af3aa88a75"
      },
      "source": [
        "#mean, median and mode for respondent age\n",
        "d1 = df['respondent_age'].mean()\n",
        "print(\"The mean for respondent age is: \\n\", d1)\n",
        "print('\\n')\n",
        "d2 = df['respondent_age'].median()\n",
        "print(\"The median for respondent age is: \\n\", d2)\n",
        "print('\\n')\n",
        "d3 = df['respondent_age'].mode()\n",
        "print(\"The mode for respondent age is: \\n\", d3)\n",
        "print('\\n')"
      ],
      "execution_count": 39,
      "outputs": [
        {
          "output_type": "stream",
          "text": [
            "The mean for respondent age is: \n",
            " 38.80706940874036\n",
            "\n",
            "\n",
            "The median for respondent age is: \n",
            " 35.0\n",
            "\n",
            "\n",
            "The mode for respondent age is: \n",
            " 0    30.0\n",
            "dtype: float64\n",
            "\n",
            "\n"
          ],
          "name": "stdout"
        }
      ]
    },
    {
      "cell_type": "code",
      "metadata": {
        "colab": {
          "base_uri": "https://localhost:8080/"
        },
        "id": "lkokAfr67ATN",
        "outputId": "f121605c-70df-47a9-9188-1ce921e69ac1"
      },
      "source": [
        "#The mean,median,mode for household size\n",
        "d1 = df['household_size'].mean()\n",
        "print(\"The mean for household size is: \\n\", d1)\n",
        "print('\\n')\n",
        "d2 = df['household_size'].median()\n",
        "print(\"The median for household size is: \\n\", d2)\n",
        "print('\\n')\n",
        "d3 = df['household_size'].mode()\n",
        "print(\"The mode for household size  is: \\n\", d3)\n",
        "print('\\n')"
      ],
      "execution_count": 40,
      "outputs": [
        {
          "output_type": "stream",
          "text": [
            "The mean for household size is: \n",
            " 3.688560411311054\n",
            "\n",
            "\n",
            "The median for household size is: \n",
            " 3.0\n",
            "\n",
            "\n",
            "The mode for household size  is: \n",
            " 0    2.0\n",
            "dtype: float64\n",
            "\n",
            "\n"
          ],
          "name": "stdout"
        }
      ]
    },
    {
      "cell_type": "markdown",
      "metadata": {
        "id": "M2Wtdqjr91oM"
      },
      "source": [
        "***##Measures of dispersion***"
      ]
    },
    {
      "cell_type": "code",
      "metadata": {
        "colab": {
          "base_uri": "https://localhost:8080/"
        },
        "id": "GlvlOBnv95Oi",
        "outputId": "4890cc34-c14c-45c3-8f4e-a3c35ae5956b"
      },
      "source": [
        "#Standard deviation and variance of age of respondents\n",
        "d1 = df['respondent_age'].std()\n",
        "print(\"The standard deviation for respondent age is: \\n\", d1)\n",
        "print('\\n')\n",
        "d2 = df['respondent_age'].var()\n",
        "print(\"The variance for respondent age is: \\n\", d2)\n",
        "print('\\n')"
      ],
      "execution_count": 41,
      "outputs": [
        {
          "output_type": "stream",
          "text": [
            "The standard deviation for respondent age is: \n",
            " 16.519904564514412\n",
            "\n",
            "\n",
            "The variance for respondent age is: \n",
            " 272.90724682066417\n",
            "\n",
            "\n"
          ],
          "name": "stdout"
        }
      ]
    },
    {
      "cell_type": "code",
      "metadata": {
        "colab": {
          "base_uri": "https://localhost:8080/"
        },
        "id": "rdkuja2qANN2",
        "outputId": "a47d7df7-c19b-40a5-a893-b0a8c4fd27f8"
      },
      "source": [
        "#Range for respondent age\n",
        "max = df['respondent_age'].max()\n",
        "min = df['respondent_age'].min()\n",
        "range = max - min\n",
        "range"
      ],
      "execution_count": 42,
      "outputs": [
        {
          "output_type": "execute_result",
          "data": {
            "text/plain": [
              "84.0"
            ]
          },
          "metadata": {
            "tags": []
          },
          "execution_count": 42
        }
      ]
    },
    {
      "cell_type": "code",
      "metadata": {
        "colab": {
          "base_uri": "https://localhost:8080/"
        },
        "id": "rNHZ6IwY-jLm",
        "outputId": "0e5b9400-1bc1-43b6-e750-4a5586b1ecaa"
      },
      "source": [
        "#Standard deviation and variance of household size\n",
        "d1 = df['household_size'].std()\n",
        "print(\"The standard deviation for household size is: \\n\", d1)\n",
        "print('\\n')\n",
        "d2 = df['household_size'].var()\n",
        "print(\"The variance for household size is: \\n\", d2)\n",
        "print('\\n')"
      ],
      "execution_count": 43,
      "outputs": [
        {
          "output_type": "stream",
          "text": [
            "The standard deviation for household size is: \n",
            " 2.2812745975350435\n",
            "\n",
            "\n",
            "The variance for household size is: \n",
            " 5.204213789358675\n",
            "\n",
            "\n"
          ],
          "name": "stdout"
        }
      ]
    },
    {
      "cell_type": "code",
      "metadata": {
        "colab": {
          "base_uri": "https://localhost:8080/"
        },
        "id": "GnDz7peHAAk3",
        "outputId": "062388bd-2bd6-4ace-bf2d-b7308410c8c4"
      },
      "source": [
        "#Range for household size\n",
        "max = df['household_size'].max()\n",
        "min = df['household_size'].min()\n",
        "range = max - min\n",
        "range"
      ],
      "execution_count": 44,
      "outputs": [
        {
          "output_type": "execute_result",
          "data": {
            "text/plain": [
              "21.0"
            ]
          },
          "metadata": {
            "tags": []
          },
          "execution_count": 44
        }
      ]
    },
    {
      "cell_type": "markdown",
      "metadata": {
        "id": "JiASnYhW_AK6"
      },
      "source": [
        "***##Quantiles***"
      ]
    },
    {
      "cell_type": "code",
      "metadata": {
        "colab": {
          "base_uri": "https://localhost:8080/"
        },
        "id": "ITkSfuk3_BKG",
        "outputId": "7042b17c-8d54-4b3c-ae89-f4a7ac1f1fa4"
      },
      "source": [
        "#The quatiles of respondent age\n",
        "df['respondent_age'].quantile([0.25,0.5,0.75])"
      ],
      "execution_count": 45,
      "outputs": [
        {
          "output_type": "execute_result",
          "data": {
            "text/plain": [
              "0.25    26.0\n",
              "0.50    35.0\n",
              "0.75    49.0\n",
              "Name: respondent_age, dtype: float64"
            ]
          },
          "metadata": {
            "tags": []
          },
          "execution_count": 45
        }
      ]
    },
    {
      "cell_type": "code",
      "metadata": {
        "colab": {
          "base_uri": "https://localhost:8080/"
        },
        "id": "qkzynLC4_Lc2",
        "outputId": "a318b886-18c8-48a6-b43c-985a37795073"
      },
      "source": [
        "#The quatiles of respondent age\n",
        "df['household_size'].quantile([0.25,0.5,0.75])"
      ],
      "execution_count": 46,
      "outputs": [
        {
          "output_type": "execute_result",
          "data": {
            "text/plain": [
              "0.25    2.0\n",
              "0.50    3.0\n",
              "0.75    5.0\n",
              "Name: household_size, dtype: float64"
            ]
          },
          "metadata": {
            "tags": []
          },
          "execution_count": 46
        }
      ]
    },
    {
      "cell_type": "markdown",
      "metadata": {
        "id": "OZWJk9yo_bL_"
      },
      "source": [
        "***##Skewness***"
      ]
    },
    {
      "cell_type": "code",
      "metadata": {
        "colab": {
          "base_uri": "https://localhost:8080/"
        },
        "id": "fAFmGD2bA8a1",
        "outputId": "97e520af-c1f9-46ae-9ba8-dd1704233d62"
      },
      "source": [
        "#Skeweness of respondent age\n",
        "age_df = df['respondent_age'].skew()\n",
        "print(age_df)\n",
        "if age_df > 0:\n",
        "  print('The distribution is positively skewed')\n",
        "elif age_df < 0:\n",
        "    print('The distribution is negatively skewed')\n",
        "else:\n",
        "    print(' The distribution is Symmetric')"
      ],
      "execution_count": 47,
      "outputs": [
        {
          "output_type": "stream",
          "text": [
            "0.8406145812311228\n",
            "The distribution is positively skewed\n"
          ],
          "name": "stdout"
        }
      ]
    },
    {
      "cell_type": "code",
      "metadata": {
        "colab": {
          "base_uri": "https://localhost:8080/"
        },
        "id": "lULiC2Vb_RM6",
        "outputId": "2739a5a9-d497-4734-a9fb-ee2f5eabb22c"
      },
      "source": [
        "#The skewness of household size\n",
        "household_df = df['household_size'].skew()\n",
        "print(household_df)\n",
        "if age_df > 0:\n",
        "  print('The distribution is positively skewed')\n",
        "elif age_df < 0:\n",
        "    print('The distribution is negatively skewed')\n",
        "else:\n",
        "    print(' The distribution is Symmetric')"
      ],
      "execution_count": 48,
      "outputs": [
        {
          "output_type": "stream",
          "text": [
            "0.9741827150450616\n",
            "The distribution is positively skewed\n"
          ],
          "name": "stdout"
        }
      ]
    },
    {
      "cell_type": "markdown",
      "metadata": {
        "id": "jb7nT4AdBMQS"
      },
      "source": [
        "***##Kurtosis***"
      ]
    },
    {
      "cell_type": "code",
      "metadata": {
        "colab": {
          "base_uri": "https://localhost:8080/"
        },
        "id": "YCxUQoeLBPCv",
        "outputId": "9e9660d3-2603-4a51-f800-5d457b4b4148"
      },
      "source": [
        "#Kurtosis for respondent age\n",
        "age_df = df['respondent_age'].kurt()\n",
        "print(age_df)\n",
        "if age_df > 0:\n",
        "  print('Leptokurtic')\n",
        "elif age_df < 0:\n",
        "    print('Platykurtic')\n",
        "else:\n",
        "    print('Mesokurtic')"
      ],
      "execution_count": 49,
      "outputs": [
        {
          "output_type": "stream",
          "text": [
            "0.09826807013177241\n",
            "Leptokurtic\n"
          ],
          "name": "stdout"
        }
      ]
    },
    {
      "cell_type": "code",
      "metadata": {
        "colab": {
          "base_uri": "https://localhost:8080/"
        },
        "id": "Agku0jEaBTZM",
        "outputId": "01ef9f73-e04c-491f-e0d8-e90551d7ab5b"
      },
      "source": [
        "#Kurtosis for household size\n",
        "household_df = df['household_size'].kurt()\n",
        "print(household_df)\n",
        "if household_df > 0:\n",
        "  print('Leptokurtic')\n",
        "elif household_df < 0:\n",
        "    print('Platykurtic')\n",
        "else:\n",
        "    print('Mesokurtic')"
      ],
      "execution_count": 50,
      "outputs": [
        {
          "output_type": "stream",
          "text": [
            "1.1538357462528523\n",
            "Leptokurtic\n"
          ],
          "name": "stdout"
        }
      ]
    },
    {
      "cell_type": "code",
      "metadata": {
        "colab": {
          "base_uri": "https://localhost:8080/"
        },
        "id": "b2Fa2ti7CO83",
        "outputId": "ccac7cee-c461-482f-fe36-b601e19bc5bb"
      },
      "source": [
        "#summary statistics\n",
        "a = df['respondent_age'].describe()\n",
        "print(\"The summary statistics for age of respondent is: \\n\", a)\n",
        "print('\\n')\n",
        "b = df['household_size'].describe()\n",
        "print(\"The summary statistics for household size is: \\n\", b)\n",
        "print('\\n')"
      ],
      "execution_count": 51,
      "outputs": [
        {
          "output_type": "stream",
          "text": [
            "The summary statistics for age of respondent is: \n",
            " count    23340.000000\n",
            "mean        38.807069\n",
            "std         16.519905\n",
            "min         16.000000\n",
            "25%         26.000000\n",
            "50%         35.000000\n",
            "75%         49.000000\n",
            "max        100.000000\n",
            "Name: respondent_age, dtype: float64\n",
            "\n",
            "\n",
            "The summary statistics for household size is: \n",
            " count    23340.000000\n",
            "mean         3.688560\n",
            "std          2.281275\n",
            "min          0.000000\n",
            "25%          2.000000\n",
            "50%          3.000000\n",
            "75%          5.000000\n",
            "max         21.000000\n",
            "Name: household_size, dtype: float64\n",
            "\n",
            "\n"
          ],
          "name": "stdout"
        }
      ]
    },
    {
      "cell_type": "markdown",
      "metadata": {
        "id": "92B6NACyKLZV"
      },
      "source": [
        "***##visualization techniques***"
      ]
    },
    {
      "cell_type": "markdown",
      "metadata": {
        "id": "LLxj678JKVgK"
      },
      "source": [
        "Ploting the univariate summaries and recording our observations"
      ]
    },
    {
      "cell_type": "code",
      "metadata": {
        "colab": {
          "base_uri": "https://localhost:8080/",
          "height": 351
        },
        "id": "ve3EfrzBJ6I0",
        "outputId": "46cb4b84-18da-4346-acc8-93d4e0d0accc"
      },
      "source": [
        "#Box plot for household size\n",
        "## boxplot\n",
        "sns.boxplot(df['household_size'], showmeans=True)"
      ],
      "execution_count": 52,
      "outputs": [
        {
          "output_type": "stream",
          "text": [
            "/usr/local/lib/python3.7/dist-packages/seaborn/_decorators.py:43: FutureWarning: Pass the following variable as a keyword arg: x. From version 0.12, the only valid positional argument will be `data`, and passing other arguments without an explicit keyword will result in an error or misinterpretation.\n",
            "  FutureWarning\n"
          ],
          "name": "stderr"
        },
        {
          "output_type": "execute_result",
          "data": {
            "text/plain": [
              "<matplotlib.axes._subplots.AxesSubplot at 0x7f9500755c90>"
            ]
          },
          "metadata": {
            "tags": []
          },
          "execution_count": 52
        },
        {
          "output_type": "display_data",
          "data": {
            "image/png": "[encoded data removed]",
            "text/plain": [
              "<Figure size 432x288 with 1 Axes>"
            ]
          },
          "metadata": {
            "tags": [],
            "needs_background": "light"
          }
        }
      ]
    },
    {
      "cell_type": "code",
      "metadata": {
        "colab": {
          "base_uri": "https://localhost:8080/",
          "height": 288
        },
        "id": "zFFiVAN_Kua-",
        "outputId": "6ac4a5f9-5eb2-4695-a1f6-b7a3cdd2d771"
      },
      "source": [
        "#Bar chart for household size\n",
        "df['household_size'].value_counts().head().plot.bar()"
      ],
      "execution_count": 53,
      "outputs": [
        {
          "output_type": "execute_result",
          "data": {
            "text/plain": [
              "<matplotlib.axes._subplots.AxesSubplot at 0x7f95006ad310>"
            ]
          },
          "metadata": {
            "tags": []
          },
          "execution_count": 53
        },
        {
          "output_type": "display_data",
          "data": {
            "image/png": "[encoded data removed]",
            "text/plain": [
              "<Figure size 432x288 with 1 Axes>"
            ]
          },
          "metadata": {
            "tags": [],
            "needs_background": "light"
          }
        }
      ]
    },
    {
      "cell_type": "code",
      "metadata": {
        "colab": {
          "base_uri": "https://localhost:8080/",
          "height": 301
        },
        "id": "LSxeS3ROK32d",
        "outputId": "7c46b6c4-699b-42ef-9f18-a212cf37eb6f"
      },
      "source": [
        "#Bar chart for respondent age\n",
        "df['respondent_age'].value_counts().sort_index().plot.bar()"
      ],
      "execution_count": 54,
      "outputs": [
        {
          "output_type": "execute_result",
          "data": {
            "text/plain": [
              "<matplotlib.axes._subplots.AxesSubplot at 0x7f950067ba90>"
            ]
          },
          "metadata": {
            "tags": []
          },
          "execution_count": 54
        },
        {
          "output_type": "display_data",
          "data": {
            "image/png": "[encoded data removed]",
            "text/plain": [
              "<Figure size 432x288 with 1 Axes>"
            ]
          },
          "metadata": {
            "tags": [],
            "needs_background": "light"
          }
        }
      ]
    },
    {
      "cell_type": "markdown",
      "metadata": {
        "id": "wCeOX-6qLAM8"
      },
      "source": [
        "Recommendations\n",
        "\n",
        "\n",
        "> While from the data there is no assurity that the household size detemined whether or not individuals had bank accounts across Kenya, Rwanda, Tanzania, and Uganda, it is clear that most of the older individuals had bank accounts.\n",
        "i would recommend that children and the youth be educated on the importance of bank accounts."
      ]
    },
    {
      "cell_type": "markdown",
      "metadata": {
        "id": "dNfX3a2OL4ps"
      },
      "source": [
        "##6.2 Bivariate analysis"
      ]
    },
    {
      "cell_type": "markdown",
      "metadata": {
        "id": "JA477a25N1by"
      },
      "source": [
        "### 6.2.1 Numerical and Numerical"
      ]
    },
    {
      "cell_type": "markdown",
      "metadata": {
        "id": "R6Bh8kINm6DK"
      },
      "source": [
        "***##Scatter plots***"
      ]
    },
    {
      "cell_type": "code",
      "metadata": {
        "colab": {
          "base_uri": "https://localhost:8080/",
          "height": 419
        },
        "id": "OgWuuqM0u16Q",
        "outputId": "e27264d7-6927-4057-9ca3-b8e4c6031994"
      },
      "source": [
        "#Grouping our househole size according to the respondent age\n",
        "scatter=df.groupby('respondent_age')['household_size'].count().reset_index(name='total household_size')\n",
        "scatter"
      ],
      "execution_count": 55,
      "outputs": [
        {
          "output_type": "execute_result",
          "data": {
            "text/html": [
              "<div>\n",
              "<style scoped>\n",
              "    .dataframe tbody tr th:only-of-type {\n",
              "        vertical-align: middle;\n",
              "    }\n",
              "\n",
              "    .dataframe tbody tr th {\n",
              "        vertical-align: top;\n",
              "    }\n",
              "\n",
              "    .dataframe thead th {\n",
              "        text-align: right;\n",
              "    }\n",
              "</style>\n",
              "<table border=\"1\" class=\"dataframe\">\n",
              "  <thead>\n",
              "    <tr style=\"text-align: right;\">\n",
              "      <th></th>\n",
              "      <th>respondent_age</th>\n",
              "      <th>total household_size</th>\n",
              "    </tr>\n",
              "  </thead>\n",
              "  <tbody>\n",
              "    <tr>\n",
              "      <th>0</th>\n",
              "      <td>16.0</td>\n",
              "      <td>459</td>\n",
              "    </tr>\n",
              "    <tr>\n",
              "      <th>1</th>\n",
              "      <td>17.0</td>\n",
              "      <td>474</td>\n",
              "    </tr>\n",
              "    <tr>\n",
              "      <th>2</th>\n",
              "      <td>18.0</td>\n",
              "      <td>583</td>\n",
              "    </tr>\n",
              "    <tr>\n",
              "      <th>3</th>\n",
              "      <td>19.0</td>\n",
              "      <td>466</td>\n",
              "    </tr>\n",
              "    <tr>\n",
              "      <th>4</th>\n",
              "      <td>20.0</td>\n",
              "      <td>622</td>\n",
              "    </tr>\n",
              "    <tr>\n",
              "      <th>...</th>\n",
              "      <td>...</td>\n",
              "      <td>...</td>\n",
              "    </tr>\n",
              "    <tr>\n",
              "      <th>80</th>\n",
              "      <td>96.0</td>\n",
              "      <td>3</td>\n",
              "    </tr>\n",
              "    <tr>\n",
              "      <th>81</th>\n",
              "      <td>97.0</td>\n",
              "      <td>1</td>\n",
              "    </tr>\n",
              "    <tr>\n",
              "      <th>82</th>\n",
              "      <td>98.0</td>\n",
              "      <td>6</td>\n",
              "    </tr>\n",
              "    <tr>\n",
              "      <th>83</th>\n",
              "      <td>99.0</td>\n",
              "      <td>2</td>\n",
              "    </tr>\n",
              "    <tr>\n",
              "      <th>84</th>\n",
              "      <td>100.0</td>\n",
              "      <td>5</td>\n",
              "    </tr>\n",
              "  </tbody>\n",
              "</table>\n",
              "<p>85 rows × 2 columns</p>\n",
              "</div>"
            ],
            "text/plain": [
              "    respondent_age  total household_size\n",
              "0             16.0                   459\n",
              "1             17.0                   474\n",
              "2             18.0                   583\n",
              "3             19.0                   466\n",
              "4             20.0                   622\n",
              "..             ...                   ...\n",
              "80            96.0                     3\n",
              "81            97.0                     1\n",
              "82            98.0                     6\n",
              "83            99.0                     2\n",
              "84           100.0                     5\n",
              "\n",
              "[85 rows x 2 columns]"
            ]
          },
          "metadata": {
            "tags": []
          },
          "execution_count": 55
        }
      ]
    },
    {
      "cell_type": "code",
      "metadata": {
        "colab": {
          "base_uri": "https://localhost:8080/",
          "height": 359
        },
        "id": "3l5JXVpbN0iu",
        "outputId": "e056e539-20bc-4f68-a7e0-d3af39d50899"
      },
      "source": [
        "\n",
        "# Plotting our scatterplot\n",
        "plt.figure(figsize=(8,5))\n",
        "plt.scatter(scatter[\"respondent_age\"] , scatter[\"total household_size\"], color='indigo')\n",
        "# Giving our scatterplot a title\n",
        "plt.title('respondent_age vs  total household_size', fontweight='bold', fontsize=18, color='indigo')\n",
        "\n",
        "# Labelling our x axis\n",
        "plt.xlabel('respondent age', fontweight='bold', fontsize=15, color='indigo')\n",
        "\n",
        "# Labelling our y axis\n",
        "plt.ylabel(' total household_size', fontweight='bold', fontsize=15, color='indigo')\n",
        "\n",
        "# Displaying our scatterplot\n",
        "plt.show()\n",
        "#there is a negative relation since as age of respondent increases the total household size decreases "
      ],
      "execution_count": 56,
      "outputs": [
        {
          "output_type": "display_data",
          "data": {
            "image/png": "[encoded data removed]",
            "text/plain": [
              "<Figure size 576x360 with 1 Axes>"
            ]
          },
          "metadata": {
            "tags": [],
            "needs_background": "light"
          }
        }
      ]
    },
    {
      "cell_type": "markdown",
      "metadata": {
        "id": "BGtJiiv5woft"
      },
      "source": [
        "***##Correlation***"
      ]
    },
    {
      "cell_type": "code",
      "metadata": {
        "colab": {
          "base_uri": "https://localhost:8080/"
        },
        "id": "eZK13ij-Nx9w",
        "outputId": "d511b22f-bb40-41a7-d78c-cd49c26ce34c"
      },
      "source": [
        "# Calculating the pearson coefficient\n",
        "pearson_coeff = df[\"respondent_age\"].corr(df[\"household_size\"], method=\"pearson\") \n",
        "print(pearson_coeff)\n",
        "\n",
        "# Checking whether you have to define the pearson\n",
        "coeff = df[\"respondent_age\"].corr(df[\"household_size\"]) \n",
        "print(coeff)\n",
        "# The respondent age and household size have a very weak negative correlation"
      ],
      "execution_count": 57,
      "outputs": [
        {
          "output_type": "stream",
          "text": [
            "-0.11967115234154871\n",
            "-0.11967115234154871\n"
          ],
          "name": "stdout"
        }
      ]
    },
    {
      "cell_type": "code",
      "metadata": {
        "colab": {
          "base_uri": "https://localhost:8080/",
          "height": 274
        },
        "id": "TX39VL5NzbhG",
        "outputId": "aed2fea4-2fa4-4827-a6a6-4e71e29f83e9"
      },
      "source": [
        "#  showing correlation on a heatmap\n",
        "sns.heatmap(df.corr(),annot=True)\n",
        "plt.show()"
      ],
      "execution_count": 58,
      "outputs": [
        {
          "output_type": "display_data",
          "data": {
            "image/png": "[encoded data removed]",
            "text/plain": [
              "<Figure size 432x288 with 2 Axes>"
            ]
          },
          "metadata": {
            "tags": [],
            "needs_background": "light"
          }
        }
      ]
    },
    {
      "cell_type": "markdown",
      "metadata": {
        "id": "Nhdri7352HVj"
      },
      "source": [
        "### 6.2.2 Categorical and categorical"
      ]
    },
    {
      "cell_type": "markdown",
      "metadata": {
        "id": "iPVvjRWw7S9d"
      },
      "source": [
        "***##Stacked column chart***"
      ]
    },
    {
      "cell_type": "code",
      "metadata": {
        "colab": {
          "base_uri": "https://localhost:8080/",
          "height": 390
        },
        "id": "Ul1EDwBE2EsM",
        "outputId": "a32d2275-4ab5-43f1-c8d8-03fd0217a07a"
      },
      "source": [
        "#Stacked bar chart of location with people with a bank account\n",
        "pd.crosstab(df['type_of_location'],df['has_a_bank_account']).plot(kind=\"bar\",stacked=True,  figsize=(8,5))\n",
        "plt.title('type of location in respective to people wit a bank account', fontweight='bold', fontsize=12)\n",
        "plt.xlabel('type of location', fontweight='bold', fontsize=12)\n",
        "plt.ylabel('no. of people with a bank account', fontweight='bold', fontsize=12)"
      ],
      "execution_count": 59,
      "outputs": [
        {
          "output_type": "execute_result",
          "data": {
            "text/plain": [
              "Text(0, 0.5, 'no. of people with a bank account')"
            ]
          },
          "metadata": {
            "tags": []
          },
          "execution_count": 59
        },
        {
          "output_type": "display_data",
          "data": {
            "image/png": "[encoded data removed]",
            "text/plain": [
              "<Figure size 576x360 with 1 Axes>"
            ]
          },
          "metadata": {
            "tags": [],
            "needs_background": "light"
          }
        }
      ]
    },
    {
      "cell_type": "code",
      "metadata": {
        "colab": {
          "base_uri": "https://localhost:8080/",
          "height": 474
        },
        "id": "Ln4qVWEz650J",
        "outputId": "651b4e78-693a-46df-9b88-65805e968556"
      },
      "source": [
        "# Bar chart for marital status and people with a bank account\n",
        "pd.crosstab(df['marital_status'],df['has_a_bank_account']).plot(kind=\"bar\",stacked=True, color= ['purple', 'pink'], figsize=(10,5))\n",
        "plt.title('marital status in respective to people wit a bank account')\n",
        "plt.xlabel('marital status')\n",
        "plt.ylabel('number')"
      ],
      "execution_count": 60,
      "outputs": [
        {
          "output_type": "execute_result",
          "data": {
            "text/plain": [
              "Text(0, 0.5, 'number')"
            ]
          },
          "metadata": {
            "tags": []
          },
          "execution_count": 60
        },
        {
          "output_type": "display_data",
          "data": {
            "image/png": "[encoded data removed]",
            "text/plain": [
              "<Figure size 720x360 with 1 Axes>"
            ]
          },
          "metadata": {
            "tags": [],
            "needs_background": "light"
          }
        }
      ]
    },
    {
      "cell_type": "code",
      "metadata": {
        "colab": {
          "base_uri": "https://localhost:8080/",
          "height": 511
        },
        "id": "m-Ca4Id9Avl_",
        "outputId": "044ebdc8-609e-4b0c-f5e5-954b73c52ce2"
      },
      "source": [
        "#Bar chart for education level and people with a bank account\n",
        "pd.crosstab(df['education'],df['has_a_bank_account']).plot(kind=\"bar\",stacked=True, color= ['green', 'brown'],  figsize=(10,5))\n",
        "plt.title('education in respective to people wit a bank account')\n",
        "plt.xlabel('level of education')\n",
        "plt.ylabel('number')"
      ],
      "execution_count": 61,
      "outputs": [
        {
          "output_type": "execute_result",
          "data": {
            "text/plain": [
              "Text(0, 0.5, 'number')"
            ]
          },
          "metadata": {
            "tags": []
          },
          "execution_count": 61
        },
        {
          "output_type": "display_data",
          "data": {
            "image/png": "[encoded data removed]",
            "text/plain": [
              "<Figure size 720x360 with 1 Axes>"
            ]
          },
          "metadata": {
            "tags": [],
            "needs_background": "light"
          }
        }
      ]
    },
    {
      "cell_type": "code",
      "metadata": {
        "colab": {
          "base_uri": "https://localhost:8080/",
          "height": 373
        },
        "id": "ujXf6qdtCAKO",
        "outputId": "eaebc8a2-a462-4f38-b51a-eac41336e7f6"
      },
      "source": [
        "#Bar chart for people with cell phone access inrespective to a bank account\n",
        "pd.crosstab(df['cell_phone_access'],df['has_a_bank_account']).plot(kind=\"bar\",stacked=True, color= ['orange', 'pink'],  figsize=(5,5))\n",
        "plt.title('cell phone access in respective to people wit a bank account')\n",
        "plt.xlabel('cell phone access')\n",
        "plt.ylabel('number')"
      ],
      "execution_count": 62,
      "outputs": [
        {
          "output_type": "execute_result",
          "data": {
            "text/plain": [
              "Text(0, 0.5, 'number')"
            ]
          },
          "metadata": {
            "tags": []
          },
          "execution_count": 62
        },
        {
          "output_type": "display_data",
          "data": {
            "image/png": "[encoded data removed]",
            "text/plain": [
              "<Figure size 360x360 with 1 Axes>"
            ]
          },
          "metadata": {
            "tags": [],
            "needs_background": "light"
          }
        }
      ]
    },
    {
      "cell_type": "code",
      "metadata": {
        "colab": {
          "base_uri": "https://localhost:8080/",
          "height": 338
        },
        "id": "2yKeJnZGCkNb",
        "outputId": "d3c7b956-5069-4447-e1d8-5775e9e85d68"
      },
      "source": [
        "#Bar chart for gender in relation to people with a bank account\n",
        "pd.crosstab(df['gender_of_respondent'],df['has_a_bank_account']).plot(kind=\"bar\",stacked=True, color= ['purple', 'red'])\n",
        "plt.title('gender of respondent in respective to people wit a bank account')\n",
        "plt.xlabel('gender of respondent')\n",
        "plt.ylabel('number')"
      ],
      "execution_count": 63,
      "outputs": [
        {
          "output_type": "execute_result",
          "data": {
            "text/plain": [
              "Text(0, 0.5, 'number')"
            ]
          },
          "metadata": {
            "tags": []
          },
          "execution_count": 63
        },
        {
          "output_type": "display_data",
          "data": {
            "image/png": "[encoded data removed]",
            "text/plain": [
              "<Figure size 432x288 with 1 Axes>"
            ]
          },
          "metadata": {
            "tags": [],
            "needs_background": "light"
          }
        }
      ]
    },
    {
      "cell_type": "code",
      "metadata": {
        "colab": {
          "base_uri": "https://localhost:8080/",
          "height": 517
        },
        "id": "iZCDtgz6C7QN",
        "outputId": "1e917ba8-fe5b-45f8-8bc3-cee3ae6fa846"
      },
      "source": [
        "#Bar chart for type of job in relation to people with a bank account\n",
        "pd.crosstab(df['type_of_job'],df['has_a_bank_account']).plot(kind=\"bar\",stacked=True, color= ['purple', 'pink'],  figsize=(10,5))\n",
        "plt.title('type of job in respective to people wit a bank account')\n",
        "plt.xlabel('type of job')\n",
        "plt.ylabel('number')"
      ],
      "execution_count": 64,
      "outputs": [
        {
          "output_type": "execute_result",
          "data": {
            "text/plain": [
              "Text(0, 0.5, 'number')"
            ]
          },
          "metadata": {
            "tags": []
          },
          "execution_count": 64
        },
        {
          "output_type": "display_data",
          "data": {
            "image/png": "[encoded data removed]",
            "text/plain": [
              "<Figure size 720x360 with 1 Axes>"
            ]
          },
          "metadata": {
            "tags": [],
            "needs_background": "light"
          }
        }
      ]
    },
    {
      "cell_type": "markdown",
      "metadata": {
        "id": "PeAK-8CBEYka"
      },
      "source": [
        "### 6.2.3 Categorical and Numerical"
      ]
    },
    {
      "cell_type": "markdown",
      "metadata": {
        "id": "iZiRz7BhH4Ot"
      },
      "source": [
        "***##Z test***"
      ]
    },
    {
      "cell_type": "code",
      "metadata": {
        "id": "Nsfur_gJZ0lx"
      },
      "source": [
        "from scipy import stats"
      ],
      "execution_count": 66,
      "outputs": []
    },
    {
      "cell_type": "code",
      "metadata": {
        "colab": {
          "base_uri": "https://localhost:8080/"
        },
        "id": "6BL4FI7GH9lk",
        "outputId": "292aaa42-e105-4b01-b794-6a0a61925b47"
      },
      "source": [
        "#Z Score for respondent age\n",
        "age = df['respondent_age']\n",
        "from scipy.stats import zscore\n",
        "stats.zscore(age)"
      ],
      "execution_count": 67,
      "outputs": [
        {
          "output_type": "execute_result",
          "data": {
            "text/plain": [
              "array([-0.89633609,  1.88824328, -0.77526742, ..., -0.71473308,\n",
              "       -0.53313008, -1.13847342])"
            ]
          },
          "metadata": {
            "tags": []
          },
          "execution_count": 67
        }
      ]
    },
    {
      "cell_type": "code",
      "metadata": {
        "colab": {
          "base_uri": "https://localhost:8080/"
        },
        "id": "iEd_CtwvKlIE",
        "outputId": "f7a67ed2-aeda-404b-feae-8afa7630a25d"
      },
      "source": [
        "#Z Score for household size\n",
        "household = df['household_size']\n",
        "from scipy.stats import zscore\n",
        "stats.zscore(household)"
      ],
      "execution_count": 68,
      "outputs": [
        {
          "output_type": "execute_result",
          "data": {
            "text/plain": [
              "array([-0.30183791,  0.57488374,  0.57488374, ...,  0.57488374,\n",
              "        1.4516054 ,  2.76668789])"
            ]
          },
          "metadata": {
            "tags": []
          },
          "execution_count": 68
        }
      ]
    },
    {
      "cell_type": "markdown",
      "metadata": {
        "id": "pmC5yl3TJISP"
      },
      "source": [
        "***##T test***"
      ]
    },
    {
      "cell_type": "code",
      "metadata": {
        "colab": {
          "base_uri": "https://localhost:8080/"
        },
        "id": "hHa2NZHNNAzj",
        "outputId": "744974a8-2a33-4a2a-909b-5af1d83d9e0e"
      },
      "source": [
        "#Installing researchpy library\n",
        "pip install researchpy"
      ],
      "execution_count": 69,
      "outputs": [
        {
          "output_type": "stream",
          "text": [
            "Collecting researchpy\n",
            "  Downloading https://files.pythonhosted.org/packages/4b/a3/b16ea25a5416f7c35824b2fc3ee1cdc9f9d8ab6d9fc4119679504d43b8a8/researchpy-0.2.3-py3-none-any.whl\n",
            "Requirement already satisfied: statsmodels in /usr/local/lib/python3.7/dist-packages (from researchpy) (0.10.2)\n",
            "Requirement already satisfied: pandas in /usr/local/lib/python3.7/dist-packages (from researchpy) (1.1.5)\n",
            "Requirement already satisfied: scipy in /usr/local/lib/python3.7/dist-packages (from researchpy) (1.4.1)\n",
            "Requirement already satisfied: numpy in /usr/local/lib/python3.7/dist-packages (from researchpy) (1.19.5)\n",
            "Requirement already satisfied: patsy>=0.4.0 in /usr/local/lib/python3.7/dist-packages (from statsmodels->researchpy) (0.5.1)\n",
            "Requirement already satisfied: python-dateutil>=2.7.3 in /usr/local/lib/python3.7/dist-packages (from pandas->researchpy) (2.8.1)\n",
            "Requirement already satisfied: pytz>=2017.2 in /usr/local/lib/python3.7/dist-packages (from pandas->researchpy) (2018.9)\n",
            "Requirement already satisfied: six in /usr/local/lib/python3.7/dist-packages (from patsy>=0.4.0->statsmodels->researchpy) (1.15.0)\n",
            "Installing collected packages: researchpy\n",
            "Successfully installed researchpy-0.2.3\n"
          ],
          "name": "stdout"
        }
      ]
    },
    {
      "cell_type": "code",
      "metadata": {
        "colab": {
          "base_uri": "https://localhost:8080/",
          "height": 173
        },
        "id": "UQ0kbl566-nC",
        "outputId": "9a57b62b-c9cd-4a46-9abf-0da6811ea4d4"
      },
      "source": [
        "#Grouping people with a bank account with gender of respondent\n",
        "stat=df.groupby('has_a_bank_account')['gender_of_respondent'].value_counts().reset_index(name='Count per gender')\n",
        "stat"
      ],
      "execution_count": 70,
      "outputs": [
        {
          "output_type": "execute_result",
          "data": {
            "text/html": [
              "<div>\n",
              "<style scoped>\n",
              "    .dataframe tbody tr th:only-of-type {\n",
              "        vertical-align: middle;\n",
              "    }\n",
              "\n",
              "    .dataframe tbody tr th {\n",
              "        vertical-align: top;\n",
              "    }\n",
              "\n",
              "    .dataframe thead th {\n",
              "        text-align: right;\n",
              "    }\n",
              "</style>\n",
              "<table border=\"1\" class=\"dataframe\">\n",
              "  <thead>\n",
              "    <tr style=\"text-align: right;\">\n",
              "      <th></th>\n",
              "      <th>has_a_bank_account</th>\n",
              "      <th>gender_of_respondent</th>\n",
              "      <th>Count per gender</th>\n",
              "    </tr>\n",
              "  </thead>\n",
              "  <tbody>\n",
              "    <tr>\n",
              "      <th>0</th>\n",
              "      <td>No</td>\n",
              "      <td>Female</td>\n",
              "      <td>12286</td>\n",
              "    </tr>\n",
              "    <tr>\n",
              "      <th>1</th>\n",
              "      <td>No</td>\n",
              "      <td>Male</td>\n",
              "      <td>7758</td>\n",
              "    </tr>\n",
              "    <tr>\n",
              "      <th>2</th>\n",
              "      <td>Yes</td>\n",
              "      <td>Male</td>\n",
              "      <td>1816</td>\n",
              "    </tr>\n",
              "    <tr>\n",
              "      <th>3</th>\n",
              "      <td>Yes</td>\n",
              "      <td>Female</td>\n",
              "      <td>1480</td>\n",
              "    </tr>\n",
              "  </tbody>\n",
              "</table>\n",
              "</div>"
            ],
            "text/plain": [
              "  has_a_bank_account gender_of_respondent  Count per gender\n",
              "0                 No               Female             12286\n",
              "1                 No                 Male              7758\n",
              "2                Yes                 Male              1816\n",
              "3                Yes               Female              1480"
            ]
          },
          "metadata": {
            "tags": []
          },
          "execution_count": 70
        }
      ]
    },
    {
      "cell_type": "code",
      "metadata": {
        "colab": {
          "base_uri": "https://localhost:8080/",
          "height": 111
        },
        "id": "gTfv3zq-7Txm",
        "outputId": "66fcb9ef-7064-45f8-ab86-b6fd86f9e4e4"
      },
      "source": [
        "#Locating a people who responded yes to having a bank account\n",
        "yes=stat.loc[(stat['has_a_bank_account'] == 'Yes')]\n",
        "yes"
      ],
      "execution_count": 71,
      "outputs": [
        {
          "output_type": "execute_result",
          "data": {
            "text/html": [
              "<div>\n",
              "<style scoped>\n",
              "    .dataframe tbody tr th:only-of-type {\n",
              "        vertical-align: middle;\n",
              "    }\n",
              "\n",
              "    .dataframe tbody tr th {\n",
              "        vertical-align: top;\n",
              "    }\n",
              "\n",
              "    .dataframe thead th {\n",
              "        text-align: right;\n",
              "    }\n",
              "</style>\n",
              "<table border=\"1\" class=\"dataframe\">\n",
              "  <thead>\n",
              "    <tr style=\"text-align: right;\">\n",
              "      <th></th>\n",
              "      <th>has_a_bank_account</th>\n",
              "      <th>gender_of_respondent</th>\n",
              "      <th>Count per gender</th>\n",
              "    </tr>\n",
              "  </thead>\n",
              "  <tbody>\n",
              "    <tr>\n",
              "      <th>2</th>\n",
              "      <td>Yes</td>\n",
              "      <td>Male</td>\n",
              "      <td>1816</td>\n",
              "    </tr>\n",
              "    <tr>\n",
              "      <th>3</th>\n",
              "      <td>Yes</td>\n",
              "      <td>Female</td>\n",
              "      <td>1480</td>\n",
              "    </tr>\n",
              "  </tbody>\n",
              "</table>\n",
              "</div>"
            ],
            "text/plain": [
              "  has_a_bank_account gender_of_respondent  Count per gender\n",
              "2                Yes                 Male              1816\n",
              "3                Yes               Female              1480"
            ]
          },
          "metadata": {
            "tags": []
          },
          "execution_count": 71
        }
      ]
    },
    {
      "cell_type": "code",
      "metadata": {
        "id": "e5igWIdc7YT0"
      },
      "source": [
        "no=stat.loc[stat['has_a_bank_account'] == \"No\"]"
      ],
      "execution_count": 72,
      "outputs": []
    },
    {
      "cell_type": "code",
      "metadata": {
        "colab": {
          "base_uri": "https://localhost:8080/"
        },
        "id": "-H_44_PFLUg9",
        "outputId": "4cd0dd39-84cc-47bb-8377-d1e4eeace9f8"
      },
      "source": [
        "#Calculating t test\n",
        "from scipy.stats import ttest_ind\n",
        "t_stat,p = ttest_ind(yes['Count per gender'],no['Count per gender'])\n",
        "print(f't={t_stat}, p={p}')"
      ],
      "execution_count": 73,
      "outputs": [
        {
          "output_type": "stream",
          "text": [
            "t=-3.688621726795465, p=0.06627434989683603\n"
          ],
          "name": "stdout"
        }
      ]
    },
    {
      "cell_type": "markdown",
      "metadata": {
        "id": "Gmudt2ejRp3M"
      },
      "source": [
        "> "
      ]
    },
    {
      "cell_type": "markdown",
      "metadata": {
        "id": "Gqx7wbFER_Z2"
      },
      "source": [
        "> In places located in rural areas,many respondents had reported to be having no bank account.We also noticed  many self-employed people don't have bank accounts. Similarly,many respondents with no cell phone access reported to be having no bank account.\n",
        "The following are to be done to improve the situation ;\n",
        "- Educate people living in rural areas on the importance of having a bank account and even educate them how to use the bank account.\n",
        "- Generally, create awarenesss on the importance of having a bank account to all people across all ages."
      ]
    },
    {
      "cell_type": "markdown",
      "metadata": {
        "id": "HiF88IKQ75g4"
      },
      "source": [
        "##6.3 Multivariate Analysis"
      ]
    },
    {
      "cell_type": "code",
      "metadata": {
        "colab": {
          "base_uri": "https://localhost:8080/",
          "height": 374
        },
        "id": "k2_tEojR79zY",
        "outputId": "ccda79dc-b5ec-450f-f600-9b90804e1c7d"
      },
      "source": [
        "#Plotting a pair plot\n",
        "sns.pairplot(df)\n",
        "plt.show()"
      ],
      "execution_count": 74,
      "outputs": [
        {
          "output_type": "display_data",
          "data": {
            "image/png": "[encoded data removed]",
            "text/plain": [
              "<Figure size 360x360 with 6 Axes>"
            ]
          },
          "metadata": {
            "tags": [],
            "needs_background": "light"
          }
        }
      ]
    },
    {
      "cell_type": "markdown",
      "metadata": {
        "id": "pkxKL1M09H-d"
      },
      "source": [
        "# 7. Implementing the Solution"
      ]
    },
    {
      "cell_type": "markdown",
      "metadata": {
        "id": "5rj5BD6d9pkV"
      },
      "source": [
        "**Data Reduction Techniques**"
      ]
    },
    {
      "cell_type": "markdown",
      "metadata": {
        "id": "5c4zHp8B-T2A"
      },
      "source": [
        "###7.1. Principal component analysis"
      ]
    },
    {
      "cell_type": "code",
      "metadata": {
        "colab": {
          "base_uri": "https://localhost:8080/",
          "height": 97
        },
        "id": "aUebs7XpNF06",
        "outputId": "54da8931-e127-41cc-a780-c6092a337bb0"
      },
      "source": [
        "df.head(1)"
      ],
      "execution_count": 75,
      "outputs": [
        {
          "output_type": "execute_result",
          "data": {
            "text/html": [
              "<div>\n",
              "<style scoped>\n",
              "    .dataframe tbody tr th:only-of-type {\n",
              "        vertical-align: middle;\n",
              "    }\n",
              "\n",
              "    .dataframe tbody tr th {\n",
              "        vertical-align: top;\n",
              "    }\n",
              "\n",
              "    .dataframe thead th {\n",
              "        text-align: right;\n",
              "    }\n",
              "</style>\n",
              "<table border=\"1\" class=\"dataframe\">\n",
              "  <thead>\n",
              "    <tr style=\"text-align: right;\">\n",
              "      <th></th>\n",
              "      <th>country</th>\n",
              "      <th>has_a_bank_account</th>\n",
              "      <th>type_of_location</th>\n",
              "      <th>cell_phone_access</th>\n",
              "      <th>household_size</th>\n",
              "      <th>respondent_age</th>\n",
              "      <th>gender_of_respondent</th>\n",
              "      <th>marital_status</th>\n",
              "      <th>education</th>\n",
              "      <th>type_of_job</th>\n",
              "    </tr>\n",
              "  </thead>\n",
              "  <tbody>\n",
              "    <tr>\n",
              "      <th>0</th>\n",
              "      <td>Kenya</td>\n",
              "      <td>Yes</td>\n",
              "      <td>Rural</td>\n",
              "      <td>Yes</td>\n",
              "      <td>3.0</td>\n",
              "      <td>24.0</td>\n",
              "      <td>Female</td>\n",
              "      <td>Married/Living together</td>\n",
              "      <td>Secondary education</td>\n",
              "      <td>Self employed</td>\n",
              "    </tr>\n",
              "  </tbody>\n",
              "</table>\n",
              "</div>"
            ],
            "text/plain": [
              "  country has_a_bank_account  ...            education    type_of_job\n",
              "0   Kenya                Yes  ...  Secondary education  Self employed\n",
              "\n",
              "[1 rows x 10 columns]"
            ]
          },
          "metadata": {
            "tags": []
          },
          "execution_count": 75
        }
      ]
    },
    {
      "cell_type": "code",
      "metadata": {
        "id": "lKzSpKOhyNU5"
      },
      "source": [
        "from sklearn.preprocessing import StandardScaler\n",
        "scaler = StandardScaler()\n",
        "scaler.fit(df[['household_size', 'respondent_age']])\n",
        "scaled_data = scaler.transform(df[['household_size', 'respondent_age']])"
      ],
      "execution_count": 76,
      "outputs": []
    },
    {
      "cell_type": "code",
      "metadata": {
        "id": "jQqEVgHa1yfg"
      },
      "source": [
        "scaled_data = pd.DataFrame(scaled_data)"
      ],
      "execution_count": 77,
      "outputs": []
    },
    {
      "cell_type": "code",
      "metadata": {
        "id": "ur7pWbTZ2DXd",
        "colab": {
          "base_uri": "https://localhost:8080/",
          "height": 204
        },
        "outputId": "d84aa32e-2a39-42ce-cd5c-18527efd43ad"
      },
      "source": [
        "df2 = scaled_data.fillna(0)\n",
        "df2.head()"
      ],
      "execution_count": 78,
      "outputs": [
        {
          "output_type": "execute_result",
          "data": {
            "text/html": [
              "<div>\n",
              "<style scoped>\n",
              "    .dataframe tbody tr th:only-of-type {\n",
              "        vertical-align: middle;\n",
              "    }\n",
              "\n",
              "    .dataframe tbody tr th {\n",
              "        vertical-align: top;\n",
              "    }\n",
              "\n",
              "    .dataframe thead th {\n",
              "        text-align: right;\n",
              "    }\n",
              "</style>\n",
              "<table border=\"1\" class=\"dataframe\">\n",
              "  <thead>\n",
              "    <tr style=\"text-align: right;\">\n",
              "      <th></th>\n",
              "      <th>0</th>\n",
              "      <th>1</th>\n",
              "    </tr>\n",
              "  </thead>\n",
              "  <tbody>\n",
              "    <tr>\n",
              "      <th>0</th>\n",
              "      <td>-0.301838</td>\n",
              "      <td>-0.896336</td>\n",
              "    </tr>\n",
              "    <tr>\n",
              "      <th>1</th>\n",
              "      <td>0.574884</td>\n",
              "      <td>1.888243</td>\n",
              "    </tr>\n",
              "    <tr>\n",
              "      <th>2</th>\n",
              "      <td>0.574884</td>\n",
              "      <td>-0.775267</td>\n",
              "    </tr>\n",
              "    <tr>\n",
              "      <th>3</th>\n",
              "      <td>0.574884</td>\n",
              "      <td>-0.290993</td>\n",
              "    </tr>\n",
              "    <tr>\n",
              "      <th>4</th>\n",
              "      <td>1.889966</td>\n",
              "      <td>-0.775267</td>\n",
              "    </tr>\n",
              "  </tbody>\n",
              "</table>\n",
              "</div>"
            ],
            "text/plain": [
              "          0         1\n",
              "0 -0.301838 -0.896336\n",
              "1  0.574884  1.888243\n",
              "2  0.574884 -0.775267\n",
              "3  0.574884 -0.290993\n",
              "4  1.889966 -0.775267"
            ]
          },
          "metadata": {
            "tags": []
          },
          "execution_count": 78
        }
      ]
    },
    {
      "cell_type": "code",
      "metadata": {
        "id": "wZ-PUJae15sF"
      },
      "source": [
        "from sklearn.decomposition import PCA\n",
        "logmodel = PCA(n_components=2)\n",
        "logmodel.fit(df2)\n",
        "pca_x = logmodel.transform(df2)"
      ],
      "execution_count": 79,
      "outputs": []
    },
    {
      "cell_type": "code",
      "metadata": {
        "colab": {
          "base_uri": "https://localhost:8080/"
        },
        "id": "LVncAVcCNtC7",
        "outputId": "d89b9bd3-1453-4fa7-c2ab-460f5215d3f6"
      },
      "source": [
        "df2.shape"
      ],
      "execution_count": 80,
      "outputs": [
        {
          "output_type": "execute_result",
          "data": {
            "text/plain": [
              "(23340, 2)"
            ]
          },
          "metadata": {
            "tags": []
          },
          "execution_count": 80
        }
      ]
    },
    {
      "cell_type": "code",
      "metadata": {
        "colab": {
          "base_uri": "https://localhost:8080/"
        },
        "id": "M84o512MNvTB",
        "outputId": "89e730e3-4160-4ff6-ede3-f847e4a9fdca"
      },
      "source": [
        "pca_x.shape"
      ],
      "execution_count": 81,
      "outputs": [
        {
          "output_type": "execute_result",
          "data": {
            "text/plain": [
              "(23340, 2)"
            ]
          },
          "metadata": {
            "tags": []
          },
          "execution_count": 81
        }
      ]
    },
    {
      "cell_type": "code",
      "metadata": {
        "id": "DQ65_I0o3dfL"
      },
      "source": [
        "df3 = pd.DataFrame(logmodel.components_, columns = ['household_size', 'respondent_age'])"
      ],
      "execution_count": 82,
      "outputs": []
    },
    {
      "cell_type": "code",
      "metadata": {
        "id": "-_rPEkVQ3s_H",
        "colab": {
          "base_uri": "https://localhost:8080/",
          "height": 392
        },
        "outputId": "aac5a643-b40d-445a-caaf-1b31787e41b6"
      },
      "source": [
        "plt.figure(figsize=(10,6))\n",
        "sns.heatmap(df3)"
      ],
      "execution_count": 83,
      "outputs": [
        {
          "output_type": "execute_result",
          "data": {
            "text/plain": [
              "<matplotlib.axes._subplots.AxesSubplot at 0x7f94f4cafc90>"
            ]
          },
          "metadata": {
            "tags": []
          },
          "execution_count": 83
        },
        {
          "output_type": "display_data",
          "data": {
            "image/png": "[encoded data removed]",
            "text/plain": [
              "<Figure size 720x432 with 2 Axes>"
            ]
          },
          "metadata": {
            "tags": [],
            "needs_background": "light"
          }
        }
      ]
    },
    {
      "cell_type": "code",
      "metadata": {
        "id": "ktzo3GPI3dSK",
        "colab": {
          "base_uri": "https://localhost:8080/",
          "height": 475
        },
        "outputId": "f05c26bf-8102-4e91-cf99-bcc546cee0fa"
      },
      "source": [
        "plt.figure(figsize=(10,6))\n",
        "ty=sns.scatterplot(pca_x[:,0], pca_x[:,1])\n",
        "sns.despine(left=True)\n",
        "ty.set_title('PCA Results')\n",
        "ty.set_ylabel('Principle Component1 ')\n",
        "ty.set_xlabel('Principle Component2 ')"
      ],
      "execution_count": 84,
      "outputs": [
        {
          "output_type": "stream",
          "text": [
            "/usr/local/lib/python3.7/dist-packages/seaborn/_decorators.py:43: FutureWarning: Pass the following variables as keyword args: x, y. From version 0.12, the only valid positional argument will be `data`, and passing other arguments without an explicit keyword will result in an error or misinterpretation.\n",
            "  FutureWarning\n"
          ],
          "name": "stderr"
        },
        {
          "output_type": "execute_result",
          "data": {
            "text/plain": [
              "Text(0.5, 0, 'Principle Component2 ')"
            ]
          },
          "metadata": {
            "tags": []
          },
          "execution_count": 84
        },
        {
          "output_type": "display_data",
          "data": {
            "image/png": "[encoded data removed]",
            "text/plain": [
              "<Figure size 720x432 with 1 Axes>"
            ]
          },
          "metadata": {
            "tags": [],
            "needs_background": "light"
          }
        }
      ]
    },
    {
      "cell_type": "code",
      "metadata": {
        "colab": {
          "base_uri": "https://localhost:8080/"
        },
        "id": "z0zpN2xjOSkN",
        "outputId": "732e9ba7-efbe-4eb3-957e-c6290586422f"
      },
      "source": [
        "pca_x"
      ],
      "execution_count": 85,
      "outputs": [
        {
          "output_type": "execute_result",
          "data": {
            "text/plain": [
              "array([[ 0.42037369, -0.84723696],\n",
              "       [-0.92868544,  1.74169382],\n",
              "       [ 0.95470104, -0.14169265],\n",
              "       ...,\n",
              "       [ 0.91189681, -0.09888842],\n",
              "       [ 1.40341992,  0.64946013],\n",
              "       [ 2.76136605,  1.15132149]])"
            ]
          },
          "metadata": {
            "tags": []
          },
          "execution_count": 85
        }
      ]
    },
    {
      "cell_type": "markdown",
      "metadata": {
        "id": "LOq3rCIcUR7d"
      },
      "source": [
        "#8. Challenging the solution"
      ]
    },
    {
      "cell_type": "markdown",
      "metadata": {
        "id": "Oc0_1tm6Up-K"
      },
      "source": [
        ">The easy solution is nice because it is, well, easy, but you should never allow those results to hold the day. You should always be thinking of ways to challenge the results, especially if those results comport with your prior expectation."
      ]
    },
    {
      "cell_type": "markdown",
      "metadata": {
        "id": "Fm1_0qgfGelx"
      },
      "source": [
        "> In places located in rural areas,many respondents had reported to be having no bank account.We also noticed  many self-employed people don't have bank accounts. Similarly,many respondents with no cell phone access reported to be having no bank account.\n",
        "The following are to be done to improve the situation ;\n",
        "- Educate people living in rural areas on the importance of having a bank account and even educate them how to use the bank account.\n",
        "- Generally, create awarenesss on the importance of having a bank account to all people across all ages."
      ]
    },
    {
      "cell_type": "code",
      "metadata": {
        "colab": {
          "base_uri": "https://localhost:8080/"
        },
        "id": "t6gHEMjj5NP9",
        "outputId": "4407aa0b-8d78-4459-c5e3-db2f5bd97389"
      },
      "source": [
        "df2.shape"
      ],
      "execution_count": 90,
      "outputs": [
        {
          "output_type": "execute_result",
          "data": {
            "text/plain": [
              "(23340, 2)"
            ]
          },
          "metadata": {
            "tags": []
          },
          "execution_count": 90
        }
      ]
    },
    {
      "cell_type": "code",
      "metadata": {
        "id": "Ou6oz57g6RZu"
      },
      "source": [
        "# Reviewing the Solution \n",
        "N = 23340\n",
        "N <- nrow(df)\n",
        "idx <- sample(N, N, replace = TRUE)\n",
        "df4 <- df[idx, ]"
      ],
      "execution_count": null,
      "outputs": []
    },
    {
      "cell_type": "markdown",
      "metadata": {
        "id": "Y0dsc4PRVJwr"
      },
      "source": [
        "#8. Follow up questions"
      ]
    },
    {
      "cell_type": "markdown",
      "metadata": {
        "id": "dr9QpjDQVbTt"
      },
      "source": [
        "> At this point, we can refine our question or collect new data, all in an iterative process to get at the truth."
      ]
    },
    {
      "cell_type": "markdown",
      "metadata": {
        "id": "Wlk0KC4LVoBG"
      },
      "source": [
        "###a) Did we have the right Data?"
      ]
    },
    {
      "cell_type": "markdown",
      "metadata": {
        "id": "uVi7SWL3HDJ1"
      },
      "source": [
        "> No. Since the data in insufficient to predict which individuals are most likely to have or use a bank account."
      ]
    },
    {
      "cell_type": "markdown",
      "metadata": {
        "id": "d78twTpoV0ho"
      },
      "source": [
        "### b). Do we need other data to answer our question?"
      ]
    },
    {
      "cell_type": "markdown",
      "metadata": {
        "id": "DJmd9KduHdnf"
      },
      "source": [
        "> Yes. Having data indicating the income of people will be of importance since we will be able to know how much they earn and in relation to their incomes we will be able to predict if they are most likely to have or use a bank account"
      ]
    },
    {
      "cell_type": "markdown",
      "metadata": {
        "id": "wE_tTHsgV5lb"
      },
      "source": [
        "### c). Did we have the right question?"
      ]
    },
    {
      "cell_type": "markdown",
      "metadata": {
        "id": "WvWE2LNuLG8n"
      },
      "source": [
        "> yes, Since access to bank accounts has been regarded as an indicator of financial inclusion."
      ]
    }
  ]
}